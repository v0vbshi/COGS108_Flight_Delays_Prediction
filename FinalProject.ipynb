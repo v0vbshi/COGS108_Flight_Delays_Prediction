{
 "cells": [
  {
   "cell_type": "markdown",
   "metadata": {},
   "source": [
    "# COGS108 - TEAM 075: Final Project "
   ]
  },
  {
   "cell_type": "markdown",
   "metadata": {},
   "source": [
    "# 1) Overview\n",
    "Today, we live in a society where airplanes are becoming one of the most essential transportation. However, as the increase in airplane usage, airplane delay has become a more serious problem that has caused many people inconveniences. For our project, we will focus on airliner delays, inspect some of the most influential causes that have led to flight delays and predict the potential aspects that people overlook. With our data analysis, we hope to give some insights to airlines that could potentially decrease airplane delays."
   ]
  },
  {
   "cell_type": "markdown",
   "metadata": {},
   "source": [
    "# 2) Team Info\n",
    "##  2.1) Team Name: The Triton Pride\n",
    "##  2.2) Team Acronym: TTP"
   ]
  },
  {
   "cell_type": "markdown",
   "metadata": {},
   "source": [
    "## 2.3) Group Members and Positions\n",
    "Bowen (Yaxin) Shi - Data Gathering and Visualization & Background<br>\n",
    "Siqi Chen - Data Gathering and Analysis  & conclusion<br>\n",
    "Lily Moon - Data Gathering and Analysis & conclusion<br>\n",
    "Shunqi Lei - Data Analysis & Conclusion & Ethics and Privacy<br>\n",
    "Ruoxuan Li - Data Analysis & Conclusion & Ethics and Privacy<br>"
   ]
  },
  {
   "cell_type": "markdown",
   "metadata": {},
   "source": [
    "## 2.4) Group Members IDs\n",
    "Bowen Shi (A15754011) <br>\n",
    "Siqi Chen (A13305633)<br>\n",
    "Lily Moon (A15742638)<br>\n",
    "Shunqi Lei (A13595074)<br>\n",
    "Ruoxuan Li (A13874395)<br>"
   ]
  },
  {
   "cell_type": "markdown",
   "metadata": {},
   "source": [
    "# 3) Research Question\n",
    "Our project is going to inspect some of the primary causes that led to airliner delays, analyse these causes, and predict some potential reasons that caused theses. <br><br>\n",
    "What could be some of the potential reasons that led to airliner delays causes? "
   ]
  },
  {
   "cell_type": "markdown",
   "metadata": {},
   "source": [
    "# 4) Background and Prior Work\n",
    "While searching for our dataset, we actually found two prior projects regarding a similar topic.Both projects are on Kaggle. One is called Airline Delay and Cancellation Data 2018 by Milan Tomin. In Tomin’s project, he analyzes the data set for 2009-2018 U.S. airline delays. His work is more informative as he mainly just cleans the data for airline delays and cancellations from 2009 to 2018. His graphs of delays by airlines and cities gave us insights on preparing our hypothesis. He indicates American Airlines has the second most delay hours following Southeast Airlines. Using this information, we predict that airlines that charge extra fees would have less delays since Southwest usually have cheap overall price. However, this is just a prediction, we will be using our data set to either prove or disprove This hypothesis.\n",
    "<br><br>\n",
    "In Predicting Flight Delays by Fabien Daniel, he develops three models that aims to predict flight delays at take-off. The first model is “one airline, one airport,” where he used “Polynomial degree” to predict and verify his hypothesis. The second model is “One airline, all airports,” where he used “Linear and polynomial regression” to support his hypothesis. The third model he used is “Accounting for destinations,”  where he used regression with regularization to predict airline delays. Using his idea, we will be using P value from OLS regression results to support our hypothesis.\n",
    "<br><br>\n",
    "Furthermore, we found a website that shows the delay information by cities on a map. From this website, we learned that bigger cities have more airports. Looking at this map, we predict that those cities would have more demand for airliner usage and delays would cause greater impacts. Hence, we came up with the prediction that smaller cities or cities with less population would have more delays.\n",
    "<br><br>\n",
    "References: \n",
    "- Kaggle(Airline Delay and Cancellation Data 2018)https://www.kaggle.com/milantomin/airline-delay-and-cancellation-data-2018 <br>\n",
    "- Kaggle(Predicting flight delays [Tutorial])https://www.kaggle.com/fabiendaniel/predicting-flight-delays-tutorial?fbclid=IwAR11yY89b6l2RbGxm3fsMm9gcmenLpH6bqXJwPYDNvdp1F2S2FkxqIPDDn0 <br>\n",
    "- Federal Aviation Administration (Flight Delay Information)https://www.fly.faa.gov/flyfaa/usmap.jsp <br>\n",
    "- Southwest Baggage https://www.southwest.com/html/customer-service/baggage/checked-bags-pol.html"
   ]
  },
  {
   "cell_type": "markdown",
   "metadata": {},
   "source": [
    "# 5) Hypothesis\n",
    "- Airlines charging extra money on checked luggage or other fees  may have fewer delays since it may decrease the likelihood of passengers bringing checked luggage with them and hence, there are fewer procedures airport staffs have to do before planes take off\n",
    "<br>\n",
    "<br>\n",
    "- Airports with less human population or density may have more delays since lower population means local airport staff would have less experience and they would also have less fundings since less people are going to utilize those airports. "
   ]
  },
  {
   "cell_type": "markdown",
   "metadata": {},
   "source": [
    "# 6) Dataset(s)\n",
    "\n",
    "## 6.1) Airline Delay Data\n",
    "\n",
    "- Dataset Name: 119755657_T_ONTIME_REPORTING.csv, L_AIRPORT.csv_, L_STATE_ABR_AVIATION.csv_, L_UNIQUE_CARRIERS.csv_\n",
    "- Number of observations: 583,986\n",
    "- Description: 119755657_T_ONTIME_REPORTING.csv contains primary information we are going to use to support our hypothesis. L_AIRPORT.csv_, L_STATE_ABR_AVIATION.csv_, and L_UNIQUE_CARRIERS.csv_ contain the unique code that corresponds to airport, state, and airline carriers in 119755657_T_ONTIME_REPORTING.csv.\n",
    "- Link to the dataset: https://www.transtats.bts.gov/DL_SelectFields.asp?DB_Short_Name=On-Time&Table_ID=236&fbclid=IwAR2OTDbY76FUeZIPycOLBoJ3os-Y3WUmmXwyv_dxX4iy8Ny0YZTfXdxPC3s\n",
    "\n",
    "## 6.2) Airline Baggage Fee Data\n",
    "\n",
    "- Dataset Name: airlinefee.csv\n",
    "- Number of observations: 17\n",
    "- Description: airlinefee.csv contains information about airline fees. \n",
    "- Link to the dataset: https://thepointsguy.com/news/these-airlines-charge-the-most-extra-fees/ and airline companies' websites.\n",
    "\n",
    "## 6.3) Cities Population Ranking Density Data\n",
    "- Dataset Name: uscities.csv\n",
    "- Number of observations: 28,889\n",
    "- Description: uscities.csv contains information about US cities and their populations. \n",
    "- Link to the dataset: https://simplemaps.com/data/us-cities"
   ]
  },
  {
   "cell_type": "markdown",
   "metadata": {},
   "source": [
    "# 7) Setup"
   ]
  },
  {
   "cell_type": "code",
   "execution_count": 1,
   "metadata": {},
   "outputs": [],
   "source": [
    "# Import Libraries\n",
    "import numpy as np \n",
    "import pandas as pd\n",
    "import matplotlib.pyplot as plt\n",
    "import seaborn as sns\n",
    "import patsy\n",
    "import statsmodels.api as sm\n",
    "import scipy.stats as stats\n",
    "\n",
    "# PLOT POPULATION\n",
    "%matplotlib inline\n",
    "from sklearn.metrics import r2_score\n",
    "import matplotlib.pyplot as plt\n",
    "from scipy import stats"
   ]
  },
  {
   "cell_type": "markdown",
   "metadata": {},
   "source": [
    "# 8) Data Cleaning\n",
    "Data files: \n",
    "- 119755657_T_ONTIME_REPORTING.csv, \n",
    "- L_AIRPORT.csv_, \n",
    "- L_STATE_ABR_AVIATION.csv_, \n",
    "- L_UNIQUE_CARRIERS.csv_\n",
    "- uscities.csv\n",
    "- airlinefee.csv\n",
    "\n",
    "## 8.1) Checking data completion \n"
   ]
  },
  {
   "cell_type": "markdown",
   "metadata": {},
   "source": [
    "First, we want to check if our primary dataset's completion rate. "
   ]
  },
  {
   "cell_type": "code",
   "execution_count": 2,
   "metadata": {},
   "outputs": [
    {
     "data": {
      "text/html": [
       "<div>\n",
       "<style scoped>\n",
       "    .dataframe tbody tr th:only-of-type {\n",
       "        vertical-align: middle;\n",
       "    }\n",
       "\n",
       "    .dataframe tbody tr th {\n",
       "        vertical-align: top;\n",
       "    }\n",
       "\n",
       "    .dataframe thead th {\n",
       "        text-align: right;\n",
       "    }\n",
       "</style>\n",
       "<table border=\"1\" class=\"dataframe\">\n",
       "  <thead>\n",
       "    <tr style=\"text-align: right;\">\n",
       "      <th></th>\n",
       "      <th>Variables</th>\n",
       "      <th># of Missing</th>\n",
       "      <th>Completion (%)</th>\n",
       "    </tr>\n",
       "  </thead>\n",
       "  <tbody>\n",
       "    <tr>\n",
       "      <th>0</th>\n",
       "      <td>FL_DATE</td>\n",
       "      <td>0</td>\n",
       "      <td>100.000000</td>\n",
       "    </tr>\n",
       "    <tr>\n",
       "      <th>1</th>\n",
       "      <td>OP_UNIQUE_CARRIER</td>\n",
       "      <td>0</td>\n",
       "      <td>100.000000</td>\n",
       "    </tr>\n",
       "    <tr>\n",
       "      <th>2</th>\n",
       "      <td>ORIGIN</td>\n",
       "      <td>0</td>\n",
       "      <td>100.000000</td>\n",
       "    </tr>\n",
       "    <tr>\n",
       "      <th>3</th>\n",
       "      <td>ORIGIN_CITY_NAME</td>\n",
       "      <td>0</td>\n",
       "      <td>100.000000</td>\n",
       "    </tr>\n",
       "    <tr>\n",
       "      <th>4</th>\n",
       "      <td>ORIGIN_STATE_ABR</td>\n",
       "      <td>0</td>\n",
       "      <td>100.000000</td>\n",
       "    </tr>\n",
       "    <tr>\n",
       "      <th>5</th>\n",
       "      <td>ORIGIN_STATE_NM</td>\n",
       "      <td>0</td>\n",
       "      <td>100.000000</td>\n",
       "    </tr>\n",
       "    <tr>\n",
       "      <th>6</th>\n",
       "      <td>DEST</td>\n",
       "      <td>0</td>\n",
       "      <td>100.000000</td>\n",
       "    </tr>\n",
       "    <tr>\n",
       "      <th>7</th>\n",
       "      <td>DEST_CITY_NAME</td>\n",
       "      <td>0</td>\n",
       "      <td>100.000000</td>\n",
       "    </tr>\n",
       "    <tr>\n",
       "      <th>8</th>\n",
       "      <td>DEST_STATE_ABR</td>\n",
       "      <td>0</td>\n",
       "      <td>100.000000</td>\n",
       "    </tr>\n",
       "    <tr>\n",
       "      <th>9</th>\n",
       "      <td>DEST_STATE_NM</td>\n",
       "      <td>0</td>\n",
       "      <td>100.000000</td>\n",
       "    </tr>\n",
       "    <tr>\n",
       "      <th>10</th>\n",
       "      <td>CRS_DEP_TIME</td>\n",
       "      <td>0</td>\n",
       "      <td>100.000000</td>\n",
       "    </tr>\n",
       "    <tr>\n",
       "      <th>11</th>\n",
       "      <td>DEP_TIME</td>\n",
       "      <td>16352</td>\n",
       "      <td>97.199928</td>\n",
       "    </tr>\n",
       "    <tr>\n",
       "      <th>12</th>\n",
       "      <td>DEP_DELAY_NEW</td>\n",
       "      <td>16355</td>\n",
       "      <td>97.199414</td>\n",
       "    </tr>\n",
       "    <tr>\n",
       "      <th>13</th>\n",
       "      <td>CRS_ARR_TIME</td>\n",
       "      <td>0</td>\n",
       "      <td>100.000000</td>\n",
       "    </tr>\n",
       "    <tr>\n",
       "      <th>14</th>\n",
       "      <td>ARR_TIME</td>\n",
       "      <td>17061</td>\n",
       "      <td>97.078521</td>\n",
       "    </tr>\n",
       "    <tr>\n",
       "      <th>15</th>\n",
       "      <td>ARR_DELAY_NEW</td>\n",
       "      <td>18022</td>\n",
       "      <td>96.913962</td>\n",
       "    </tr>\n",
       "    <tr>\n",
       "      <th>16</th>\n",
       "      <td>DISTANCE</td>\n",
       "      <td>0</td>\n",
       "      <td>100.000000</td>\n",
       "    </tr>\n",
       "    <tr>\n",
       "      <th>17</th>\n",
       "      <td>CARRIER_DELAY</td>\n",
       "      <td>478763</td>\n",
       "      <td>18.017929</td>\n",
       "    </tr>\n",
       "    <tr>\n",
       "      <th>18</th>\n",
       "      <td>WEATHER_DELAY</td>\n",
       "      <td>478763</td>\n",
       "      <td>18.017929</td>\n",
       "    </tr>\n",
       "    <tr>\n",
       "      <th>19</th>\n",
       "      <td>NAS_DELAY</td>\n",
       "      <td>478763</td>\n",
       "      <td>18.017929</td>\n",
       "    </tr>\n",
       "    <tr>\n",
       "      <th>20</th>\n",
       "      <td>SECURITY_DELAY</td>\n",
       "      <td>478763</td>\n",
       "      <td>18.017929</td>\n",
       "    </tr>\n",
       "    <tr>\n",
       "      <th>21</th>\n",
       "      <td>LATE_AIRCRAFT_DELAY</td>\n",
       "      <td>478763</td>\n",
       "      <td>18.017929</td>\n",
       "    </tr>\n",
       "  </tbody>\n",
       "</table>\n",
       "</div>"
      ],
      "text/plain": [
       "              Variables  # of Missing  Completion (%)\n",
       "0               FL_DATE             0      100.000000\n",
       "1     OP_UNIQUE_CARRIER             0      100.000000\n",
       "2                ORIGIN             0      100.000000\n",
       "3      ORIGIN_CITY_NAME             0      100.000000\n",
       "4      ORIGIN_STATE_ABR             0      100.000000\n",
       "5       ORIGIN_STATE_NM             0      100.000000\n",
       "6                  DEST             0      100.000000\n",
       "7        DEST_CITY_NAME             0      100.000000\n",
       "8        DEST_STATE_ABR             0      100.000000\n",
       "9         DEST_STATE_NM             0      100.000000\n",
       "10         CRS_DEP_TIME             0      100.000000\n",
       "11             DEP_TIME         16352       97.199928\n",
       "12        DEP_DELAY_NEW         16355       97.199414\n",
       "13         CRS_ARR_TIME             0      100.000000\n",
       "14             ARR_TIME         17061       97.078521\n",
       "15        ARR_DELAY_NEW         18022       96.913962\n",
       "16             DISTANCE             0      100.000000\n",
       "17        CARRIER_DELAY        478763       18.017929\n",
       "18        WEATHER_DELAY        478763       18.017929\n",
       "19            NAS_DELAY        478763       18.017929\n",
       "20       SECURITY_DELAY        478763       18.017929\n",
       "21  LATE_AIRCRAFT_DELAY        478763       18.017929"
      ]
     },
     "execution_count": 2,
     "metadata": {},
     "output_type": "execute_result"
    }
   ],
   "source": [
    "# import our dataset \n",
    "df = pd.read_csv('119755657_T_ONTIME_REPORTING.csv')\n",
    "df = df.drop(['Unnamed: 22'], axis = 1)\n",
    "# checking if we are missing any data\n",
    "completion_check_df = df.isnull().sum(axis=0).reset_index()\n",
    "completion_check_df.columns = ['Variables', '# of Missing']\n",
    "completion_check_df['Completion (%)']=(df.shape[0]-completion_check_df['# of Missing'])/df.shape[0]*100\n",
    "completion_check_df.sort_values('Completion (%)').reset_index(drop = True)\n",
    "\n",
    "#print our completion chart\n",
    "completion_check_df"
   ]
  },
  {
   "cell_type": "markdown",
   "metadata": {},
   "source": [
    "As we can see, we have everything we need and there are 47,863 datasets we can use for existed delays issues. "
   ]
  },
  {
   "cell_type": "markdown",
   "metadata": {},
   "source": [
    "## 8.2) Data cleaning for delay causes "
   ]
  },
  {
   "cell_type": "markdown",
   "metadata": {},
   "source": [
    "Now we have a completion chart, we want to extract useful data to support our hypotheses. <br>\n",
    "Let's start with delay causes.<br>\n",
    "Hence, we are deleting all the delays that is NaN and dropping all the unuseful columns. <br>\n",
    "Then, we store the new dataset in a new dataframe."
   ]
  },
  {
   "cell_type": "code",
   "execution_count": 3,
   "metadata": {},
   "outputs": [
    {
     "data": {
      "text/html": [
       "<div>\n",
       "<style scoped>\n",
       "    .dataframe tbody tr th:only-of-type {\n",
       "        vertical-align: middle;\n",
       "    }\n",
       "\n",
       "    .dataframe tbody tr th {\n",
       "        vertical-align: top;\n",
       "    }\n",
       "\n",
       "    .dataframe thead th {\n",
       "        text-align: right;\n",
       "    }\n",
       "</style>\n",
       "<table border=\"1\" class=\"dataframe\">\n",
       "  <thead>\n",
       "    <tr style=\"text-align: right;\">\n",
       "      <th></th>\n",
       "      <th>CARRIER_DELAY</th>\n",
       "      <th>WEATHER_DELAY</th>\n",
       "      <th>NAS_DELAY</th>\n",
       "      <th>SECURITY_DELAY</th>\n",
       "      <th>LATE_AIRCRAFT_DELAY</th>\n",
       "    </tr>\n",
       "  </thead>\n",
       "  <tbody>\n",
       "    <tr>\n",
       "      <th>0</th>\n",
       "      <td>155.0</td>\n",
       "      <td>0.0</td>\n",
       "      <td>0.0</td>\n",
       "      <td>0.0</td>\n",
       "      <td>48.0</td>\n",
       "    </tr>\n",
       "    <tr>\n",
       "      <th>1</th>\n",
       "      <td>0.0</td>\n",
       "      <td>0.0</td>\n",
       "      <td>32.0</td>\n",
       "      <td>0.0</td>\n",
       "      <td>0.0</td>\n",
       "    </tr>\n",
       "    <tr>\n",
       "      <th>2</th>\n",
       "      <td>0.0</td>\n",
       "      <td>0.0</td>\n",
       "      <td>18.0</td>\n",
       "      <td>0.0</td>\n",
       "      <td>0.0</td>\n",
       "    </tr>\n",
       "    <tr>\n",
       "      <th>3</th>\n",
       "      <td>29.0</td>\n",
       "      <td>0.0</td>\n",
       "      <td>0.0</td>\n",
       "      <td>0.0</td>\n",
       "      <td>0.0</td>\n",
       "    </tr>\n",
       "    <tr>\n",
       "      <th>4</th>\n",
       "      <td>0.0</td>\n",
       "      <td>0.0</td>\n",
       "      <td>29.0</td>\n",
       "      <td>0.0</td>\n",
       "      <td>0.0</td>\n",
       "    </tr>\n",
       "    <tr>\n",
       "      <th>...</th>\n",
       "      <td>...</td>\n",
       "      <td>...</td>\n",
       "      <td>...</td>\n",
       "      <td>...</td>\n",
       "      <td>...</td>\n",
       "    </tr>\n",
       "    <tr>\n",
       "      <th>105217</th>\n",
       "      <td>31.0</td>\n",
       "      <td>0.0</td>\n",
       "      <td>0.0</td>\n",
       "      <td>0.0</td>\n",
       "      <td>0.0</td>\n",
       "    </tr>\n",
       "    <tr>\n",
       "      <th>105218</th>\n",
       "      <td>35.0</td>\n",
       "      <td>0.0</td>\n",
       "      <td>0.0</td>\n",
       "      <td>0.0</td>\n",
       "      <td>0.0</td>\n",
       "    </tr>\n",
       "    <tr>\n",
       "      <th>105219</th>\n",
       "      <td>0.0</td>\n",
       "      <td>27.0</td>\n",
       "      <td>73.0</td>\n",
       "      <td>0.0</td>\n",
       "      <td>90.0</td>\n",
       "    </tr>\n",
       "    <tr>\n",
       "      <th>105220</th>\n",
       "      <td>0.0</td>\n",
       "      <td>15.0</td>\n",
       "      <td>0.0</td>\n",
       "      <td>0.0</td>\n",
       "      <td>0.0</td>\n",
       "    </tr>\n",
       "    <tr>\n",
       "      <th>105221</th>\n",
       "      <td>0.0</td>\n",
       "      <td>0.0</td>\n",
       "      <td>15.0</td>\n",
       "      <td>0.0</td>\n",
       "      <td>0.0</td>\n",
       "    </tr>\n",
       "  </tbody>\n",
       "</table>\n",
       "<p>105222 rows × 5 columns</p>\n",
       "</div>"
      ],
      "text/plain": [
       "        CARRIER_DELAY  WEATHER_DELAY  NAS_DELAY  SECURITY_DELAY  \\\n",
       "0               155.0            0.0        0.0             0.0   \n",
       "1                 0.0            0.0       32.0             0.0   \n",
       "2                 0.0            0.0       18.0             0.0   \n",
       "3                29.0            0.0        0.0             0.0   \n",
       "4                 0.0            0.0       29.0             0.0   \n",
       "...               ...            ...        ...             ...   \n",
       "105217           31.0            0.0        0.0             0.0   \n",
       "105218           35.0            0.0        0.0             0.0   \n",
       "105219            0.0           27.0       73.0             0.0   \n",
       "105220            0.0           15.0        0.0             0.0   \n",
       "105221            0.0            0.0       15.0             0.0   \n",
       "\n",
       "        LATE_AIRCRAFT_DELAY  \n",
       "0                      48.0  \n",
       "1                       0.0  \n",
       "2                       0.0  \n",
       "3                       0.0  \n",
       "4                       0.0  \n",
       "...                     ...  \n",
       "105217                  0.0  \n",
       "105218                  0.0  \n",
       "105219                 90.0  \n",
       "105220                  0.0  \n",
       "105221                  0.0  \n",
       "\n",
       "[105222 rows x 5 columns]"
      ]
     },
     "execution_count": 3,
     "metadata": {},
     "output_type": "execute_result"
    }
   ],
   "source": [
    "df_delay_causes = df.loc[(~df['CARRIER_DELAY'].isna()) | \n",
    "                         (~df['WEATHER_DELAY'].isna()) |\n",
    "                         (~df['NAS_DELAY'].isna()) |\n",
    "                         (~df['SECURITY_DELAY'].isna()) |\n",
    "                         (~df['LATE_AIRCRAFT_DELAY'].isna())]\n",
    "df_delay_causes = df_delay_causes.reset_index(drop=True)\n",
    "\n",
    "df_causes_only = df_delay_causes.drop(['FL_DATE', \n",
    "                                      'OP_UNIQUE_CARRIER',\n",
    "                                      'ORIGIN',\n",
    "                                      'ORIGIN_CITY_NAME',\n",
    "                                      'ORIGIN_STATE_ABR',\n",
    "                                      'ORIGIN_STATE_NM',\n",
    "                                      'DEST',\n",
    "                                      'DEST_CITY_NAME',\n",
    "                                      'DEST_STATE_ABR',\n",
    "                                      'DEST_STATE_NM',\n",
    "                                      'DEP_DELAY_NEW',\n",
    "                                      'CRS_ARR_TIME',\n",
    "                                      'ARR_TIME',\n",
    "                                      'ARR_DELAY_NEW',\n",
    "                                      'DISTANCE', \n",
    "                                      'CRS_DEP_TIME',\n",
    "                                      'DEP_TIME'], axis=1)\n",
    "\n",
    "df_causes_only"
   ]
  },
  {
   "cell_type": "markdown",
   "metadata": {},
   "source": [
    "As we can see, there are 105222 rows but only five causes. <br>\n",
    "For the purpose of analyzing delay causes, we want the average of each cause. \n",
    "Hence: "
   ]
  },
  {
   "cell_type": "code",
   "execution_count": 4,
   "metadata": {},
   "outputs": [
    {
     "data": {
      "text/plain": [
       "{'late_aircraft_delay_avg': 24.950590180760678,\n",
       " 'carrier_delay_avg': 20.10608047746669,\n",
       " 'weather_delay_avg': 4.428551063465815,\n",
       " 'nas_delay_avg': 18.508391781186443,\n",
       " 'security_delay_avg': 0.07950808766227595}"
      ]
     },
     "execution_count": 4,
     "metadata": {},
     "output_type": "execute_result"
    }
   ],
   "source": [
    "carrier_delay_avg = (sum(df_causes_only.loc[:, 'CARRIER_DELAY'])) / (len(df_causes_only))\n",
    "weather_delay_avg = (sum(df_causes_only.loc[:, 'WEATHER_DELAY'])) / (len(df_causes_only))\n",
    "nas_delay_avg = (sum(df_causes_only.loc[:, 'NAS_DELAY'])) / (len(df_causes_only))\n",
    "security_delay_avg = (sum(df_causes_only.loc[:, 'SECURITY_DELAY'])) / (len(df_causes_only))\n",
    "late_aircraft_delay_avg = (sum(df_causes_only.loc[:, 'LATE_AIRCRAFT_DELAY'])) / (len(df_causes_only))\n",
    "\n",
    "myDict_causes = {\"late_aircraft_delay_avg\" : late_aircraft_delay_avg,\n",
    "          \"carrier_delay_avg\" : carrier_delay_avg,\n",
    "          \"weather_delay_avg\" : weather_delay_avg,\n",
    "          \"nas_delay_avg\" : nas_delay_avg,\n",
    "          \"security_delay_avg\" : security_delay_avg}\n",
    "\n",
    "myDict_causes"
   ]
  },
  {
   "cell_type": "markdown",
   "metadata": {},
   "source": [
    "## 8.3) Data cleaning for airlines"
   ]
  },
  {
   "cell_type": "markdown",
   "metadata": {},
   "source": [
    "Now we have everything we need to for delay causes, we can move on to the airline data clean up. <br>\n",
    "Let's first drop all columns we do not need."
   ]
  },
  {
   "cell_type": "code",
   "execution_count": 5,
   "metadata": {},
   "outputs": [
    {
     "data": {
      "text/html": [
       "<div>\n",
       "<style scoped>\n",
       "    .dataframe tbody tr th:only-of-type {\n",
       "        vertical-align: middle;\n",
       "    }\n",
       "\n",
       "    .dataframe tbody tr th {\n",
       "        vertical-align: top;\n",
       "    }\n",
       "\n",
       "    .dataframe thead th {\n",
       "        text-align: right;\n",
       "    }\n",
       "</style>\n",
       "<table border=\"1\" class=\"dataframe\">\n",
       "  <thead>\n",
       "    <tr style=\"text-align: right;\">\n",
       "      <th></th>\n",
       "      <th>OP_UNIQUE_CARRIER</th>\n",
       "      <th>DEP_DELAY_NEW</th>\n",
       "      <th>ARR_DELAY_NEW</th>\n",
       "    </tr>\n",
       "  </thead>\n",
       "  <tbody>\n",
       "    <tr>\n",
       "      <th>0</th>\n",
       "      <td>9E</td>\n",
       "      <td>33.0</td>\n",
       "      <td>8.0</td>\n",
       "    </tr>\n",
       "    <tr>\n",
       "      <th>1</th>\n",
       "      <td>9E</td>\n",
       "      <td>8.0</td>\n",
       "      <td>0.0</td>\n",
       "    </tr>\n",
       "    <tr>\n",
       "      <th>2</th>\n",
       "      <td>9E</td>\n",
       "      <td>0.0</td>\n",
       "      <td>0.0</td>\n",
       "    </tr>\n",
       "    <tr>\n",
       "      <th>3</th>\n",
       "      <td>9E</td>\n",
       "      <td>10.0</td>\n",
       "      <td>0.0</td>\n",
       "    </tr>\n",
       "    <tr>\n",
       "      <th>4</th>\n",
       "      <td>9E</td>\n",
       "      <td>0.0</td>\n",
       "      <td>0.0</td>\n",
       "    </tr>\n",
       "    <tr>\n",
       "      <th>...</th>\n",
       "      <td>...</td>\n",
       "      <td>...</td>\n",
       "      <td>...</td>\n",
       "    </tr>\n",
       "    <tr>\n",
       "      <th>583980</th>\n",
       "      <td>UA</td>\n",
       "      <td>0.0</td>\n",
       "      <td>0.0</td>\n",
       "    </tr>\n",
       "    <tr>\n",
       "      <th>583981</th>\n",
       "      <td>UA</td>\n",
       "      <td>0.0</td>\n",
       "      <td>0.0</td>\n",
       "    </tr>\n",
       "    <tr>\n",
       "      <th>583982</th>\n",
       "      <td>UA</td>\n",
       "      <td>0.0</td>\n",
       "      <td>0.0</td>\n",
       "    </tr>\n",
       "    <tr>\n",
       "      <th>583983</th>\n",
       "      <td>UA</td>\n",
       "      <td>0.0</td>\n",
       "      <td>0.0</td>\n",
       "    </tr>\n",
       "    <tr>\n",
       "      <th>583984</th>\n",
       "      <td>UA</td>\n",
       "      <td>0.0</td>\n",
       "      <td>0.0</td>\n",
       "    </tr>\n",
       "  </tbody>\n",
       "</table>\n",
       "<p>583985 rows × 3 columns</p>\n",
       "</div>"
      ],
      "text/plain": [
       "       OP_UNIQUE_CARRIER  DEP_DELAY_NEW  ARR_DELAY_NEW\n",
       "0                     9E           33.0            8.0\n",
       "1                     9E            8.0            0.0\n",
       "2                     9E            0.0            0.0\n",
       "3                     9E           10.0            0.0\n",
       "4                     9E            0.0            0.0\n",
       "...                  ...            ...            ...\n",
       "583980                UA            0.0            0.0\n",
       "583981                UA            0.0            0.0\n",
       "583982                UA            0.0            0.0\n",
       "583983                UA            0.0            0.0\n",
       "583984                UA            0.0            0.0\n",
       "\n",
       "[583985 rows x 3 columns]"
      ]
     },
     "execution_count": 5,
     "metadata": {},
     "output_type": "execute_result"
    }
   ],
   "source": [
    "df_airlines_only = df.drop(['FL_DATE', \n",
    "                            'ORIGIN',\n",
    "                            'ORIGIN_CITY_NAME',\n",
    "                            'ORIGIN_STATE_ABR',\n",
    "                            'ORIGIN_STATE_NM',\n",
    "                            'DEST',\n",
    "                            'DEST_CITY_NAME',\n",
    "                            'DEST_STATE_ABR',\n",
    "                            'DEST_STATE_NM',\n",
    "                            'DISTANCE', \n",
    "                            'CARRIER_DELAY',\n",
    "                            'WEATHER_DELAY',\n",
    "                            'NAS_DELAY',\n",
    "                            'SECURITY_DELAY',\n",
    "                            'LATE_AIRCRAFT_DELAY',\n",
    "                            'CRS_DEP_TIME',\n",
    "                            'DEP_TIME',\n",
    "                            'CRS_ARR_TIME',\n",
    "                            'ARR_TIME'], axis=1)\n",
    "\n",
    "df_airlines_only"
   ]
  },
  {
   "cell_type": "markdown",
   "metadata": {},
   "source": [
    "As we can see, we have 583,985 observations but we want to order them by their airline. <br>\n",
    "Hence, let's merge data for the same airline and take the average. "
   ]
  },
  {
   "cell_type": "code",
   "execution_count": 6,
   "metadata": {},
   "outputs": [
    {
     "data": {
      "text/html": [
       "<div>\n",
       "<style scoped>\n",
       "    .dataframe tbody tr th:only-of-type {\n",
       "        vertical-align: middle;\n",
       "    }\n",
       "\n",
       "    .dataframe tbody tr th {\n",
       "        vertical-align: top;\n",
       "    }\n",
       "\n",
       "    .dataframe thead th {\n",
       "        text-align: right;\n",
       "    }\n",
       "</style>\n",
       "<table border=\"1\" class=\"dataframe\">\n",
       "  <thead>\n",
       "    <tr style=\"text-align: right;\">\n",
       "      <th></th>\n",
       "      <th>OP_UNIQUE_CARRIER</th>\n",
       "      <th>DEP_DELAY_NEW</th>\n",
       "      <th>ARR_DELAY_NEW</th>\n",
       "    </tr>\n",
       "  </thead>\n",
       "  <tbody>\n",
       "    <tr>\n",
       "      <th>0</th>\n",
       "      <td>9E</td>\n",
       "      <td>15.956522</td>\n",
       "      <td>16.518793</td>\n",
       "    </tr>\n",
       "    <tr>\n",
       "      <th>1</th>\n",
       "      <td>AA</td>\n",
       "      <td>11.047137</td>\n",
       "      <td>11.847480</td>\n",
       "    </tr>\n",
       "    <tr>\n",
       "      <th>2</th>\n",
       "      <td>AS</td>\n",
       "      <td>9.479610</td>\n",
       "      <td>10.895516</td>\n",
       "    </tr>\n",
       "    <tr>\n",
       "      <th>3</th>\n",
       "      <td>B6</td>\n",
       "      <td>24.144074</td>\n",
       "      <td>24.069630</td>\n",
       "    </tr>\n",
       "    <tr>\n",
       "      <th>4</th>\n",
       "      <td>DL</td>\n",
       "      <td>10.091902</td>\n",
       "      <td>9.901339</td>\n",
       "    </tr>\n",
       "    <tr>\n",
       "      <th>5</th>\n",
       "      <td>EV</td>\n",
       "      <td>20.133192</td>\n",
       "      <td>21.970000</td>\n",
       "    </tr>\n",
       "    <tr>\n",
       "      <th>6</th>\n",
       "      <td>F9</td>\n",
       "      <td>16.946986</td>\n",
       "      <td>16.638356</td>\n",
       "    </tr>\n",
       "    <tr>\n",
       "      <th>7</th>\n",
       "      <td>G4</td>\n",
       "      <td>14.872990</td>\n",
       "      <td>16.736032</td>\n",
       "    </tr>\n",
       "    <tr>\n",
       "      <th>8</th>\n",
       "      <td>HA</td>\n",
       "      <td>5.024444</td>\n",
       "      <td>6.166249</td>\n",
       "    </tr>\n",
       "    <tr>\n",
       "      <th>9</th>\n",
       "      <td>MQ</td>\n",
       "      <td>12.980807</td>\n",
       "      <td>15.577098</td>\n",
       "    </tr>\n",
       "    <tr>\n",
       "      <th>10</th>\n",
       "      <td>NK</td>\n",
       "      <td>11.937720</td>\n",
       "      <td>12.645879</td>\n",
       "    </tr>\n",
       "    <tr>\n",
       "      <th>11</th>\n",
       "      <td>OH</td>\n",
       "      <td>10.163013</td>\n",
       "      <td>10.225044</td>\n",
       "    </tr>\n",
       "    <tr>\n",
       "      <th>12</th>\n",
       "      <td>OO</td>\n",
       "      <td>20.904027</td>\n",
       "      <td>21.794884</td>\n",
       "    </tr>\n",
       "    <tr>\n",
       "      <th>13</th>\n",
       "      <td>UA</td>\n",
       "      <td>15.775485</td>\n",
       "      <td>16.316177</td>\n",
       "    </tr>\n",
       "    <tr>\n",
       "      <th>14</th>\n",
       "      <td>WN</td>\n",
       "      <td>9.058392</td>\n",
       "      <td>7.941605</td>\n",
       "    </tr>\n",
       "    <tr>\n",
       "      <th>15</th>\n",
       "      <td>YV</td>\n",
       "      <td>12.677796</td>\n",
       "      <td>13.569914</td>\n",
       "    </tr>\n",
       "    <tr>\n",
       "      <th>16</th>\n",
       "      <td>YX</td>\n",
       "      <td>15.646334</td>\n",
       "      <td>17.814075</td>\n",
       "    </tr>\n",
       "  </tbody>\n",
       "</table>\n",
       "</div>"
      ],
      "text/plain": [
       "   OP_UNIQUE_CARRIER  DEP_DELAY_NEW  ARR_DELAY_NEW\n",
       "0                 9E      15.956522      16.518793\n",
       "1                 AA      11.047137      11.847480\n",
       "2                 AS       9.479610      10.895516\n",
       "3                 B6      24.144074      24.069630\n",
       "4                 DL      10.091902       9.901339\n",
       "5                 EV      20.133192      21.970000\n",
       "6                 F9      16.946986      16.638356\n",
       "7                 G4      14.872990      16.736032\n",
       "8                 HA       5.024444       6.166249\n",
       "9                 MQ      12.980807      15.577098\n",
       "10                NK      11.937720      12.645879\n",
       "11                OH      10.163013      10.225044\n",
       "12                OO      20.904027      21.794884\n",
       "13                UA      15.775485      16.316177\n",
       "14                WN       9.058392       7.941605\n",
       "15                YV      12.677796      13.569914\n",
       "16                YX      15.646334      17.814075"
      ]
     },
     "execution_count": 6,
     "metadata": {},
     "output_type": "execute_result"
    }
   ],
   "source": [
    "df_airlines_only = df_airlines_only.groupby(by='OP_UNIQUE_CARRIER').agg({'DEP_DELAY_NEW': 'mean',\n",
    "                                                      'ARR_DELAY_NEW': 'mean'}).reset_index()\n",
    "df_airlines_only"
   ]
  },
  {
   "cell_type": "markdown",
   "metadata": {},
   "source": [
    "Here, we have 16 unique airlines we can use for our analysis. <br>\n",
    "We want to match each unique id to its corresponding airline name."
   ]
  },
  {
   "cell_type": "code",
   "execution_count": 7,
   "metadata": {},
   "outputs": [
    {
     "data": {
      "text/html": [
       "<div>\n",
       "<style scoped>\n",
       "    .dataframe tbody tr th:only-of-type {\n",
       "        vertical-align: middle;\n",
       "    }\n",
       "\n",
       "    .dataframe tbody tr th {\n",
       "        vertical-align: top;\n",
       "    }\n",
       "\n",
       "    .dataframe thead th {\n",
       "        text-align: right;\n",
       "    }\n",
       "</style>\n",
       "<table border=\"1\" class=\"dataframe\">\n",
       "  <thead>\n",
       "    <tr style=\"text-align: right;\">\n",
       "      <th></th>\n",
       "      <th>AIRLINE</th>\n",
       "      <th>DEP_DELAY_AVG</th>\n",
       "      <th>ARR_DELAY_AVG</th>\n",
       "    </tr>\n",
       "  </thead>\n",
       "  <tbody>\n",
       "    <tr>\n",
       "      <th>0</th>\n",
       "      <td>Endeavor Air Inc.</td>\n",
       "      <td>15.956522</td>\n",
       "      <td>16.518793</td>\n",
       "    </tr>\n",
       "    <tr>\n",
       "      <th>1</th>\n",
       "      <td>American Airlines Inc.</td>\n",
       "      <td>11.047137</td>\n",
       "      <td>11.847480</td>\n",
       "    </tr>\n",
       "    <tr>\n",
       "      <th>2</th>\n",
       "      <td>Alaska Airlines Inc.</td>\n",
       "      <td>9.479610</td>\n",
       "      <td>10.895516</td>\n",
       "    </tr>\n",
       "    <tr>\n",
       "      <th>3</th>\n",
       "      <td>JetBlue Airways</td>\n",
       "      <td>24.144074</td>\n",
       "      <td>24.069630</td>\n",
       "    </tr>\n",
       "    <tr>\n",
       "      <th>4</th>\n",
       "      <td>Delta Air Lines Inc.</td>\n",
       "      <td>10.091902</td>\n",
       "      <td>9.901339</td>\n",
       "    </tr>\n",
       "    <tr>\n",
       "      <th>5</th>\n",
       "      <td>ExpressJet Airlines LLC</td>\n",
       "      <td>20.133192</td>\n",
       "      <td>21.970000</td>\n",
       "    </tr>\n",
       "    <tr>\n",
       "      <th>6</th>\n",
       "      <td>Frontier Airlines Inc.</td>\n",
       "      <td>16.946986</td>\n",
       "      <td>16.638356</td>\n",
       "    </tr>\n",
       "    <tr>\n",
       "      <th>7</th>\n",
       "      <td>Allegiant Air</td>\n",
       "      <td>14.872990</td>\n",
       "      <td>16.736032</td>\n",
       "    </tr>\n",
       "    <tr>\n",
       "      <th>8</th>\n",
       "      <td>Hawaiian Airlines Inc.</td>\n",
       "      <td>5.024444</td>\n",
       "      <td>6.166249</td>\n",
       "    </tr>\n",
       "    <tr>\n",
       "      <th>9</th>\n",
       "      <td>Envoy Air</td>\n",
       "      <td>12.980807</td>\n",
       "      <td>15.577098</td>\n",
       "    </tr>\n",
       "    <tr>\n",
       "      <th>10</th>\n",
       "      <td>Spirit Air Lines</td>\n",
       "      <td>11.937720</td>\n",
       "      <td>12.645879</td>\n",
       "    </tr>\n",
       "    <tr>\n",
       "      <th>11</th>\n",
       "      <td>PSA Airlines Inc.</td>\n",
       "      <td>10.163013</td>\n",
       "      <td>10.225044</td>\n",
       "    </tr>\n",
       "    <tr>\n",
       "      <th>12</th>\n",
       "      <td>SkyWest Airlines Inc.</td>\n",
       "      <td>20.904027</td>\n",
       "      <td>21.794884</td>\n",
       "    </tr>\n",
       "    <tr>\n",
       "      <th>13</th>\n",
       "      <td>United Air Lines Inc.</td>\n",
       "      <td>15.775485</td>\n",
       "      <td>16.316177</td>\n",
       "    </tr>\n",
       "    <tr>\n",
       "      <th>14</th>\n",
       "      <td>Southwest Airlines Co.</td>\n",
       "      <td>9.058392</td>\n",
       "      <td>7.941605</td>\n",
       "    </tr>\n",
       "    <tr>\n",
       "      <th>15</th>\n",
       "      <td>Mesa Airlines Inc.</td>\n",
       "      <td>12.677796</td>\n",
       "      <td>13.569914</td>\n",
       "    </tr>\n",
       "    <tr>\n",
       "      <th>16</th>\n",
       "      <td>Republic Airline</td>\n",
       "      <td>15.646334</td>\n",
       "      <td>17.814075</td>\n",
       "    </tr>\n",
       "  </tbody>\n",
       "</table>\n",
       "</div>"
      ],
      "text/plain": [
       "                    AIRLINE  DEP_DELAY_AVG  ARR_DELAY_AVG\n",
       "0         Endeavor Air Inc.      15.956522      16.518793\n",
       "1    American Airlines Inc.      11.047137      11.847480\n",
       "2      Alaska Airlines Inc.       9.479610      10.895516\n",
       "3           JetBlue Airways      24.144074      24.069630\n",
       "4      Delta Air Lines Inc.      10.091902       9.901339\n",
       "5   ExpressJet Airlines LLC      20.133192      21.970000\n",
       "6    Frontier Airlines Inc.      16.946986      16.638356\n",
       "7             Allegiant Air      14.872990      16.736032\n",
       "8    Hawaiian Airlines Inc.       5.024444       6.166249\n",
       "9                 Envoy Air      12.980807      15.577098\n",
       "10         Spirit Air Lines      11.937720      12.645879\n",
       "11        PSA Airlines Inc.      10.163013      10.225044\n",
       "12    SkyWest Airlines Inc.      20.904027      21.794884\n",
       "13    United Air Lines Inc.      15.775485      16.316177\n",
       "14   Southwest Airlines Co.       9.058392       7.941605\n",
       "15       Mesa Airlines Inc.      12.677796      13.569914\n",
       "16         Republic Airline      15.646334      17.814075"
      ]
     },
     "execution_count": 7,
     "metadata": {},
     "output_type": "execute_result"
    }
   ],
   "source": [
    "df_airline_unique = pd.read_csv('L_UNIQUE_CARRIERS.csv_')\n",
    "\n",
    "if df_airlines_only.columns[0] == 'OP_UNIQUE_CARRIER':\n",
    "    for i in range(0, len(df_airlines_only)):\n",
    "        description_temp = df_airline_unique.loc[df_airline_unique['Code'] == df_airlines_only.iloc[i]['OP_UNIQUE_CARRIER']]\n",
    "        df_airlines_only.at[i, 'OP_UNIQUE_CARRIER'] = description_temp['Description'].values[0]\n",
    "    \n",
    "    df_airlines_only.rename(columns={'OP_UNIQUE_CARRIER':'AIRLINE',\n",
    "                                     'DEP_DELAY_NEW':'DEP_DELAY_AVG',\n",
    "                                     'ARR_DELAY_NEW':'ARR_DELAY_AVG'}, \n",
    "                            inplace=True)\n",
    "\n",
    "df_airlines_only"
   ]
  },
  {
   "cell_type": "markdown",
   "metadata": {},
   "source": [
    "## 8.4) Data cleaning for cities"
   ]
  },
  {
   "cell_type": "markdown",
   "metadata": {},
   "source": [
    "Now we want to do the same for cities and store their averages. <br>\n",
    "First we extract departing and arriving data from the original dataset. <br>\n",
    "Then we merge them together to obtain a new dataset that contains the average delay for each city."
   ]
  },
  {
   "cell_type": "code",
   "execution_count": 8,
   "metadata": {},
   "outputs": [
    {
     "data": {
      "text/html": [
       "<div>\n",
       "<style scoped>\n",
       "    .dataframe tbody tr th:only-of-type {\n",
       "        vertical-align: middle;\n",
       "    }\n",
       "\n",
       "    .dataframe tbody tr th {\n",
       "        vertical-align: top;\n",
       "    }\n",
       "\n",
       "    .dataframe thead th {\n",
       "        text-align: right;\n",
       "    }\n",
       "</style>\n",
       "<table border=\"1\" class=\"dataframe\">\n",
       "  <thead>\n",
       "    <tr style=\"text-align: right;\">\n",
       "      <th></th>\n",
       "      <th>Cities</th>\n",
       "      <th>DELAY_AVG</th>\n",
       "    </tr>\n",
       "  </thead>\n",
       "  <tbody>\n",
       "    <tr>\n",
       "      <th>0</th>\n",
       "      <td>Aberdeen, SD</td>\n",
       "      <td>19.658333</td>\n",
       "    </tr>\n",
       "    <tr>\n",
       "      <th>1</th>\n",
       "      <td>Abilene, TX</td>\n",
       "      <td>9.020833</td>\n",
       "    </tr>\n",
       "    <tr>\n",
       "      <th>2</th>\n",
       "      <td>Adak Island, AK</td>\n",
       "      <td>4.944444</td>\n",
       "    </tr>\n",
       "    <tr>\n",
       "      <th>3</th>\n",
       "      <td>Aguadilla, PR</td>\n",
       "      <td>16.028760</td>\n",
       "    </tr>\n",
       "    <tr>\n",
       "      <th>4</th>\n",
       "      <td>Akron, OH</td>\n",
       "      <td>16.261649</td>\n",
       "    </tr>\n",
       "    <tr>\n",
       "      <th>...</th>\n",
       "      <td>...</td>\n",
       "      <td>...</td>\n",
       "    </tr>\n",
       "    <tr>\n",
       "      <th>335</th>\n",
       "      <td>Wilmington, NC</td>\n",
       "      <td>9.706481</td>\n",
       "    </tr>\n",
       "    <tr>\n",
       "      <th>336</th>\n",
       "      <td>Worcester, MA</td>\n",
       "      <td>23.323864</td>\n",
       "    </tr>\n",
       "    <tr>\n",
       "      <th>337</th>\n",
       "      <td>Wrangell, AK</td>\n",
       "      <td>17.356003</td>\n",
       "    </tr>\n",
       "    <tr>\n",
       "      <th>338</th>\n",
       "      <td>Yakutat, AK</td>\n",
       "      <td>13.317324</td>\n",
       "    </tr>\n",
       "    <tr>\n",
       "      <th>339</th>\n",
       "      <td>Yuma, AZ</td>\n",
       "      <td>6.682609</td>\n",
       "    </tr>\n",
       "  </tbody>\n",
       "</table>\n",
       "<p>340 rows × 2 columns</p>\n",
       "</div>"
      ],
      "text/plain": [
       "              Cities  DELAY_AVG\n",
       "0       Aberdeen, SD  19.658333\n",
       "1        Abilene, TX   9.020833\n",
       "2    Adak Island, AK   4.944444\n",
       "3      Aguadilla, PR  16.028760\n",
       "4          Akron, OH  16.261649\n",
       "..               ...        ...\n",
       "335   Wilmington, NC   9.706481\n",
       "336    Worcester, MA  23.323864\n",
       "337     Wrangell, AK  17.356003\n",
       "338      Yakutat, AK  13.317324\n",
       "339         Yuma, AZ   6.682609\n",
       "\n",
       "[340 rows x 2 columns]"
      ]
     },
     "execution_count": 8,
     "metadata": {},
     "output_type": "execute_result"
    }
   ],
   "source": [
    "df_cities_only = df.drop(['FL_DATE', \n",
    "                        'OP_UNIQUE_CARRIER',\n",
    "                        'CRS_ARR_TIME',\n",
    "                        'ARR_TIME',\n",
    "                        'DISTANCE', \n",
    "                        'CRS_DEP_TIME',\n",
    "                        'DEP_TIME',\n",
    "                        'CARRIER_DELAY',\n",
    "                        'WEATHER_DELAY',\n",
    "                        'NAS_DELAY',\n",
    "                        'SECURITY_DELAY',\n",
    "                        'LATE_AIRCRAFT_DELAY',\n",
    "                        'ORIGIN',\n",
    "                        'ORIGIN_STATE_ABR',\n",
    "                        'ORIGIN_STATE_NM',\n",
    "                        'DEST',\n",
    "                        'DEST_STATE_ABR',\n",
    "                        'DEST_STATE_NM'], axis=1)\n",
    "\n",
    "df_departing_delays = df_cities_only.groupby(by='ORIGIN_CITY_NAME').agg({'DEP_DELAY_NEW': 'mean'}).reset_index()\n",
    "df_arriving_delays = df_cities_only.groupby(by='DEST_CITY_NAME').agg({'ARR_DELAY_NEW': 'mean'}).reset_index()\n",
    "\n",
    "df_departing_delays.rename(columns={'ORIGIN_CITY_NAME':'Cities',\n",
    "                                   'DEP_DELAY_NEW':'DELAY_AVG'}, \n",
    "                        inplace=True)\n",
    "\n",
    "df_arriving_delays.rename(columns={'DEST_CITY_NAME':'Cities',\n",
    "                                   'ARR_DELAY_NEW':'DELAY_AVG'}, \n",
    "                        inplace=True)\n",
    "\n",
    "df_cities_avg = pd.concat([df_departing_delays, df_arriving_delays])\n",
    "\n",
    "df_cities_avg = df_cities_avg.groupby(by='Cities').agg({'DELAY_AVG': 'mean'}).reset_index()\n",
    "\n",
    "df_cities_avg"
   ]
  },
  {
   "cell_type": "markdown",
   "metadata": {},
   "source": [
    "As we can see, there are 340 cities we can use for our analysis. "
   ]
  },
  {
   "cell_type": "markdown",
   "metadata": {},
   "source": [
    "## 8.5) Data cleaning for US cities"
   ]
  },
  {
   "cell_type": "code",
   "execution_count": 9,
   "metadata": {},
   "outputs": [],
   "source": [
    "pop = pd.read_csv('uscities.csv')"
   ]
  },
  {
   "cell_type": "markdown",
   "metadata": {},
   "source": [
    "For US cities, We are going to factor out the common names of cities and stored data in the new column, named 'Cities.' Then sorted city names in acending order and dropped any columns will not be used."
   ]
  },
  {
   "cell_type": "code",
   "execution_count": 10,
   "metadata": {},
   "outputs": [
    {
     "data": {
      "text/html": [
       "<div>\n",
       "<style scoped>\n",
       "    .dataframe tbody tr th:only-of-type {\n",
       "        vertical-align: middle;\n",
       "    }\n",
       "\n",
       "    .dataframe tbody tr th {\n",
       "        vertical-align: top;\n",
       "    }\n",
       "\n",
       "    .dataframe thead th {\n",
       "        text-align: right;\n",
       "    }\n",
       "</style>\n",
       "<table border=\"1\" class=\"dataframe\">\n",
       "  <thead>\n",
       "    <tr style=\"text-align: right;\">\n",
       "      <th></th>\n",
       "      <th>city</th>\n",
       "      <th>city_ascii</th>\n",
       "      <th>state_id</th>\n",
       "      <th>state_name</th>\n",
       "      <th>county_fips</th>\n",
       "      <th>county_name</th>\n",
       "      <th>county_fips_all</th>\n",
       "      <th>county_name_all</th>\n",
       "      <th>lat</th>\n",
       "      <th>lng</th>\n",
       "      <th>population</th>\n",
       "      <th>density</th>\n",
       "      <th>source</th>\n",
       "      <th>military</th>\n",
       "      <th>incorporated</th>\n",
       "      <th>timezone</th>\n",
       "      <th>ranking</th>\n",
       "      <th>zips</th>\n",
       "      <th>id</th>\n",
       "      <th>Cities</th>\n",
       "    </tr>\n",
       "  </thead>\n",
       "  <tbody>\n",
       "    <tr>\n",
       "      <th>10200</th>\n",
       "      <td>Aaronsburg</td>\n",
       "      <td>Aaronsburg</td>\n",
       "      <td>PA</td>\n",
       "      <td>Pennsylvania</td>\n",
       "      <td>42027</td>\n",
       "      <td>Centre</td>\n",
       "      <td>42027</td>\n",
       "      <td>Centre</td>\n",
       "      <td>40.9042</td>\n",
       "      <td>-77.4513</td>\n",
       "      <td>533.0</td>\n",
       "      <td>231.0</td>\n",
       "      <td>polygon</td>\n",
       "      <td>False</td>\n",
       "      <td>False</td>\n",
       "      <td>America/New_York</td>\n",
       "      <td>3</td>\n",
       "      <td>16820</td>\n",
       "      <td>1840109056</td>\n",
       "      <td>Aaronsburg, PA</td>\n",
       "    </tr>\n",
       "    <tr>\n",
       "      <th>14843</th>\n",
       "      <td>Abanda</td>\n",
       "      <td>Abanda</td>\n",
       "      <td>AL</td>\n",
       "      <td>Alabama</td>\n",
       "      <td>1017</td>\n",
       "      <td>Chambers</td>\n",
       "      <td>01017</td>\n",
       "      <td>Chambers</td>\n",
       "      <td>33.0926</td>\n",
       "      <td>-85.5253</td>\n",
       "      <td>174.0</td>\n",
       "      <td>22.0</td>\n",
       "      <td>polygon</td>\n",
       "      <td>False</td>\n",
       "      <td>False</td>\n",
       "      <td>America/Chicago</td>\n",
       "      <td>3</td>\n",
       "      <td>36276</td>\n",
       "      <td>1840114192</td>\n",
       "      <td>Abanda, AL</td>\n",
       "    </tr>\n",
       "    <tr>\n",
       "      <th>14498</th>\n",
       "      <td>Abbeville</td>\n",
       "      <td>Abbeville</td>\n",
       "      <td>AL</td>\n",
       "      <td>Alabama</td>\n",
       "      <td>1067</td>\n",
       "      <td>Henry</td>\n",
       "      <td>01067</td>\n",
       "      <td>Henry</td>\n",
       "      <td>31.5664</td>\n",
       "      <td>-85.2528</td>\n",
       "      <td>2567.0</td>\n",
       "      <td>63.0</td>\n",
       "      <td>polygon</td>\n",
       "      <td>False</td>\n",
       "      <td>True</td>\n",
       "      <td>America/Chicago</td>\n",
       "      <td>3</td>\n",
       "      <td>36310</td>\n",
       "      <td>1840004304</td>\n",
       "      <td>Abbeville, AL</td>\n",
       "    </tr>\n",
       "    <tr>\n",
       "      <th>17054</th>\n",
       "      <td>Abbeville</td>\n",
       "      <td>Abbeville</td>\n",
       "      <td>GA</td>\n",
       "      <td>Georgia</td>\n",
       "      <td>13315</td>\n",
       "      <td>Wilcox</td>\n",
       "      <td>13315</td>\n",
       "      <td>Wilcox</td>\n",
       "      <td>31.9925</td>\n",
       "      <td>-83.3068</td>\n",
       "      <td>2789.0</td>\n",
       "      <td>352.0</td>\n",
       "      <td>polygon</td>\n",
       "      <td>False</td>\n",
       "      <td>True</td>\n",
       "      <td>America/New_York</td>\n",
       "      <td>3</td>\n",
       "      <td>31001</td>\n",
       "      <td>1840016326</td>\n",
       "      <td>Abbeville, GA</td>\n",
       "    </tr>\n",
       "    <tr>\n",
       "      <th>5910</th>\n",
       "      <td>Abbeville</td>\n",
       "      <td>Abbeville</td>\n",
       "      <td>LA</td>\n",
       "      <td>Louisiana</td>\n",
       "      <td>22113</td>\n",
       "      <td>Vermilion</td>\n",
       "      <td>22113</td>\n",
       "      <td>Vermilion</td>\n",
       "      <td>29.9750</td>\n",
       "      <td>-92.1266</td>\n",
       "      <td>19848.0</td>\n",
       "      <td>783.0</td>\n",
       "      <td>polygon</td>\n",
       "      <td>False</td>\n",
       "      <td>True</td>\n",
       "      <td>America/Chicago</td>\n",
       "      <td>3</td>\n",
       "      <td>70510 70511</td>\n",
       "      <td>1840105400</td>\n",
       "      <td>Abbeville, LA</td>\n",
       "    </tr>\n",
       "    <tr>\n",
       "      <th>...</th>\n",
       "      <td>...</td>\n",
       "      <td>...</td>\n",
       "      <td>...</td>\n",
       "      <td>...</td>\n",
       "      <td>...</td>\n",
       "      <td>...</td>\n",
       "      <td>...</td>\n",
       "      <td>...</td>\n",
       "      <td>...</td>\n",
       "      <td>...</td>\n",
       "      <td>...</td>\n",
       "      <td>...</td>\n",
       "      <td>...</td>\n",
       "      <td>...</td>\n",
       "      <td>...</td>\n",
       "      <td>...</td>\n",
       "      <td>...</td>\n",
       "      <td>...</td>\n",
       "      <td>...</td>\n",
       "      <td>...</td>\n",
       "    </tr>\n",
       "    <tr>\n",
       "      <th>24397</th>\n",
       "      <td>Zumbrota</td>\n",
       "      <td>Zumbrota</td>\n",
       "      <td>MN</td>\n",
       "      <td>Minnesota</td>\n",
       "      <td>27049</td>\n",
       "      <td>Goodhue</td>\n",
       "      <td>27049</td>\n",
       "      <td>Goodhue</td>\n",
       "      <td>44.2950</td>\n",
       "      <td>-92.6734</td>\n",
       "      <td>3314.0</td>\n",
       "      <td>481.0</td>\n",
       "      <td>polygon</td>\n",
       "      <td>False</td>\n",
       "      <td>True</td>\n",
       "      <td>America/Chicago</td>\n",
       "      <td>3</td>\n",
       "      <td>55992</td>\n",
       "      <td>1840043185</td>\n",
       "      <td>Zumbrota, MN</td>\n",
       "    </tr>\n",
       "    <tr>\n",
       "      <th>3725</th>\n",
       "      <td>Zuni Pueblo</td>\n",
       "      <td>Zuni Pueblo</td>\n",
       "      <td>NM</td>\n",
       "      <td>New Mexico</td>\n",
       "      <td>35031</td>\n",
       "      <td>McKinley</td>\n",
       "      <td>35031</td>\n",
       "      <td>McKinley</td>\n",
       "      <td>35.0708</td>\n",
       "      <td>-108.8484</td>\n",
       "      <td>7532.0</td>\n",
       "      <td>328.0</td>\n",
       "      <td>polygon</td>\n",
       "      <td>False</td>\n",
       "      <td>False</td>\n",
       "      <td>America/Denver</td>\n",
       "      <td>3</td>\n",
       "      <td>87327</td>\n",
       "      <td>1840113485</td>\n",
       "      <td>Zuni Pueblo, NM</td>\n",
       "    </tr>\n",
       "    <tr>\n",
       "      <th>26213</th>\n",
       "      <td>Zurich</td>\n",
       "      <td>Zurich</td>\n",
       "      <td>KS</td>\n",
       "      <td>Kansas</td>\n",
       "      <td>20163</td>\n",
       "      <td>Rooks</td>\n",
       "      <td>20163</td>\n",
       "      <td>Rooks</td>\n",
       "      <td>39.2323</td>\n",
       "      <td>-99.4346</td>\n",
       "      <td>95.0</td>\n",
       "      <td>203.0</td>\n",
       "      <td>polygon</td>\n",
       "      <td>False</td>\n",
       "      <td>True</td>\n",
       "      <td>America/Chicago</td>\n",
       "      <td>3</td>\n",
       "      <td>67663</td>\n",
       "      <td>1840026909</td>\n",
       "      <td>Zurich, KS</td>\n",
       "    </tr>\n",
       "    <tr>\n",
       "      <th>18342</th>\n",
       "      <td>Zwingle</td>\n",
       "      <td>Zwingle</td>\n",
       "      <td>IA</td>\n",
       "      <td>Iowa</td>\n",
       "      <td>19061</td>\n",
       "      <td>Dubuque</td>\n",
       "      <td>19061|19097</td>\n",
       "      <td>Dubuque|Jackson</td>\n",
       "      <td>42.2972</td>\n",
       "      <td>-90.6874</td>\n",
       "      <td>92.0</td>\n",
       "      <td>217.0</td>\n",
       "      <td>polygon</td>\n",
       "      <td>False</td>\n",
       "      <td>True</td>\n",
       "      <td>America/Chicago</td>\n",
       "      <td>3</td>\n",
       "      <td>52079</td>\n",
       "      <td>1840026219</td>\n",
       "      <td>Zwingle, IA</td>\n",
       "    </tr>\n",
       "    <tr>\n",
       "      <th>6284</th>\n",
       "      <td>Zwolle</td>\n",
       "      <td>Zwolle</td>\n",
       "      <td>LA</td>\n",
       "      <td>Louisiana</td>\n",
       "      <td>22085</td>\n",
       "      <td>Sabine</td>\n",
       "      <td>22085</td>\n",
       "      <td>Sabine</td>\n",
       "      <td>31.6398</td>\n",
       "      <td>-93.6412</td>\n",
       "      <td>1929.0</td>\n",
       "      <td>163.0</td>\n",
       "      <td>polygon</td>\n",
       "      <td>False</td>\n",
       "      <td>True</td>\n",
       "      <td>America/Chicago</td>\n",
       "      <td>3</td>\n",
       "      <td>71486</td>\n",
       "      <td>1840032562</td>\n",
       "      <td>Zwolle, LA</td>\n",
       "    </tr>\n",
       "  </tbody>\n",
       "</table>\n",
       "<p>28889 rows × 20 columns</p>\n",
       "</div>"
      ],
      "text/plain": [
       "              city   city_ascii state_id    state_name  county_fips  \\\n",
       "10200   Aaronsburg   Aaronsburg       PA  Pennsylvania        42027   \n",
       "14843       Abanda       Abanda       AL       Alabama         1017   \n",
       "14498    Abbeville    Abbeville       AL       Alabama         1067   \n",
       "17054    Abbeville    Abbeville       GA       Georgia        13315   \n",
       "5910     Abbeville    Abbeville       LA     Louisiana        22113   \n",
       "...            ...          ...      ...           ...          ...   \n",
       "24397     Zumbrota     Zumbrota       MN     Minnesota        27049   \n",
       "3725   Zuni Pueblo  Zuni Pueblo       NM    New Mexico        35031   \n",
       "26213       Zurich       Zurich       KS        Kansas        20163   \n",
       "18342      Zwingle      Zwingle       IA          Iowa        19061   \n",
       "6284        Zwolle       Zwolle       LA     Louisiana        22085   \n",
       "\n",
       "      county_name county_fips_all  county_name_all      lat       lng  \\\n",
       "10200      Centre           42027           Centre  40.9042  -77.4513   \n",
       "14843    Chambers           01017         Chambers  33.0926  -85.5253   \n",
       "14498       Henry           01067            Henry  31.5664  -85.2528   \n",
       "17054      Wilcox           13315           Wilcox  31.9925  -83.3068   \n",
       "5910    Vermilion           22113        Vermilion  29.9750  -92.1266   \n",
       "...           ...             ...              ...      ...       ...   \n",
       "24397     Goodhue           27049          Goodhue  44.2950  -92.6734   \n",
       "3725     McKinley           35031         McKinley  35.0708 -108.8484   \n",
       "26213       Rooks           20163            Rooks  39.2323  -99.4346   \n",
       "18342     Dubuque     19061|19097  Dubuque|Jackson  42.2972  -90.6874   \n",
       "6284       Sabine           22085           Sabine  31.6398  -93.6412   \n",
       "\n",
       "       population  density   source  military  incorporated          timezone  \\\n",
       "10200       533.0    231.0  polygon     False         False  America/New_York   \n",
       "14843       174.0     22.0  polygon     False         False   America/Chicago   \n",
       "14498      2567.0     63.0  polygon     False          True   America/Chicago   \n",
       "17054      2789.0    352.0  polygon     False          True  America/New_York   \n",
       "5910      19848.0    783.0  polygon     False          True   America/Chicago   \n",
       "...           ...      ...      ...       ...           ...               ...   \n",
       "24397      3314.0    481.0  polygon     False          True   America/Chicago   \n",
       "3725       7532.0    328.0  polygon     False         False    America/Denver   \n",
       "26213        95.0    203.0  polygon     False          True   America/Chicago   \n",
       "18342        92.0    217.0  polygon     False          True   America/Chicago   \n",
       "6284       1929.0    163.0  polygon     False          True   America/Chicago   \n",
       "\n",
       "       ranking         zips          id           Cities  \n",
       "10200        3        16820  1840109056   Aaronsburg, PA  \n",
       "14843        3        36276  1840114192       Abanda, AL  \n",
       "14498        3        36310  1840004304    Abbeville, AL  \n",
       "17054        3        31001  1840016326    Abbeville, GA  \n",
       "5910         3  70510 70511  1840105400    Abbeville, LA  \n",
       "...        ...          ...         ...              ...  \n",
       "24397        3        55992  1840043185     Zumbrota, MN  \n",
       "3725         3        87327  1840113485  Zuni Pueblo, NM  \n",
       "26213        3        67663  1840026909       Zurich, KS  \n",
       "18342        3        52079  1840026219      Zwingle, IA  \n",
       "6284         3        71486  1840032562       Zwolle, LA  \n",
       "\n",
       "[28889 rows x 20 columns]"
      ]
     },
     "execution_count": 10,
     "metadata": {},
     "output_type": "execute_result"
    }
   ],
   "source": [
    "pop['Cities'] = pop['city']+', '+pop['state_id']\n",
    "pop = pop.sort_values(by=['Cities'])\n",
    "pop"
   ]
  },
  {
   "cell_type": "markdown",
   "metadata": {},
   "source": [
    "The column 'density' represents the density of population per kilometers, and the column 'ranking' have measured with an integer from 1 to 5 that captures the importance of a city. 1 is the most important, 5 is the least important."
   ]
  },
  {
   "cell_type": "code",
   "execution_count": 11,
   "metadata": {},
   "outputs": [
    {
     "data": {
      "text/html": [
       "<div>\n",
       "<style scoped>\n",
       "    .dataframe tbody tr th:only-of-type {\n",
       "        vertical-align: middle;\n",
       "    }\n",
       "\n",
       "    .dataframe tbody tr th {\n",
       "        vertical-align: top;\n",
       "    }\n",
       "\n",
       "    .dataframe thead th {\n",
       "        text-align: right;\n",
       "    }\n",
       "</style>\n",
       "<table border=\"1\" class=\"dataframe\">\n",
       "  <thead>\n",
       "    <tr style=\"text-align: right;\">\n",
       "      <th></th>\n",
       "      <th>Cities</th>\n",
       "      <th>population</th>\n",
       "      <th>density</th>\n",
       "      <th>ranking</th>\n",
       "      <th>DELAY_AVG</th>\n",
       "    </tr>\n",
       "  </thead>\n",
       "  <tbody>\n",
       "    <tr>\n",
       "      <th>0</th>\n",
       "      <td>Aberdeen, SD</td>\n",
       "      <td>28264.0</td>\n",
       "      <td>683.0</td>\n",
       "      <td>3</td>\n",
       "      <td>19.658333</td>\n",
       "    </tr>\n",
       "    <tr>\n",
       "      <th>1</th>\n",
       "      <td>Abilene, TX</td>\n",
       "      <td>114964.0</td>\n",
       "      <td>441.0</td>\n",
       "      <td>2</td>\n",
       "      <td>9.020833</td>\n",
       "    </tr>\n",
       "    <tr>\n",
       "      <th>2</th>\n",
       "      <td>Aguadilla, PR</td>\n",
       "      <td>11581.0</td>\n",
       "      <td>1784.0</td>\n",
       "      <td>3</td>\n",
       "      <td>16.028760</td>\n",
       "    </tr>\n",
       "    <tr>\n",
       "      <th>3</th>\n",
       "      <td>Akron, OH</td>\n",
       "      <td>565920.0</td>\n",
       "      <td>1233.0</td>\n",
       "      <td>2</td>\n",
       "      <td>16.261649</td>\n",
       "    </tr>\n",
       "    <tr>\n",
       "      <th>4</th>\n",
       "      <td>Albany, GA</td>\n",
       "      <td>90515.0</td>\n",
       "      <td>513.0</td>\n",
       "      <td>3</td>\n",
       "      <td>7.530120</td>\n",
       "    </tr>\n",
       "    <tr>\n",
       "      <th>...</th>\n",
       "      <td>...</td>\n",
       "      <td>...</td>\n",
       "      <td>...</td>\n",
       "      <td>...</td>\n",
       "      <td>...</td>\n",
       "    </tr>\n",
       "    <tr>\n",
       "      <th>283</th>\n",
       "      <td>Wilmington, NC</td>\n",
       "      <td>245910.0</td>\n",
       "      <td>889.0</td>\n",
       "      <td>2</td>\n",
       "      <td>9.706481</td>\n",
       "    </tr>\n",
       "    <tr>\n",
       "      <th>284</th>\n",
       "      <td>Worcester, MA</td>\n",
       "      <td>498997.0</td>\n",
       "      <td>1918.0</td>\n",
       "      <td>2</td>\n",
       "      <td>23.323864</td>\n",
       "    </tr>\n",
       "    <tr>\n",
       "      <th>285</th>\n",
       "      <td>Wrangell, AK</td>\n",
       "      <td>2521.0</td>\n",
       "      <td>0.0</td>\n",
       "      <td>3</td>\n",
       "      <td>17.356003</td>\n",
       "    </tr>\n",
       "    <tr>\n",
       "      <th>286</th>\n",
       "      <td>Yakutat, AK</td>\n",
       "      <td>653.0</td>\n",
       "      <td>2.0</td>\n",
       "      <td>3</td>\n",
       "      <td>13.317324</td>\n",
       "    </tr>\n",
       "    <tr>\n",
       "      <th>287</th>\n",
       "      <td>Yuma, AZ</td>\n",
       "      <td>138802.0</td>\n",
       "      <td>304.0</td>\n",
       "      <td>2</td>\n",
       "      <td>6.682609</td>\n",
       "    </tr>\n",
       "  </tbody>\n",
       "</table>\n",
       "<p>288 rows × 5 columns</p>\n",
       "</div>"
      ],
      "text/plain": [
       "             Cities  population  density  ranking  DELAY_AVG\n",
       "0      Aberdeen, SD     28264.0    683.0        3  19.658333\n",
       "1       Abilene, TX    114964.0    441.0        2   9.020833\n",
       "2     Aguadilla, PR     11581.0   1784.0        3  16.028760\n",
       "3         Akron, OH    565920.0   1233.0        2  16.261649\n",
       "4        Albany, GA     90515.0    513.0        3   7.530120\n",
       "..              ...         ...      ...      ...        ...\n",
       "283  Wilmington, NC    245910.0    889.0        2   9.706481\n",
       "284   Worcester, MA    498997.0   1918.0        2  23.323864\n",
       "285    Wrangell, AK      2521.0      0.0        3  17.356003\n",
       "286     Yakutat, AK       653.0      2.0        3  13.317324\n",
       "287        Yuma, AZ    138802.0    304.0        2   6.682609\n",
       "\n",
       "[288 rows x 5 columns]"
      ]
     },
     "execution_count": 11,
     "metadata": {},
     "output_type": "execute_result"
    }
   ],
   "source": [
    "pop_fac = pd.merge(pop, df_cities_avg, on=['Cities'], how='inner')\n",
    "pop_fac_fin = pop_fac[['Cities','population','density','ranking','DELAY_AVG']]\n",
    "pop_fac_fin"
   ]
  },
  {
   "cell_type": "markdown",
   "metadata": {},
   "source": [
    "There are 288 cities we can use to match with the delays files."
   ]
  },
  {
   "cell_type": "markdown",
   "metadata": {},
   "source": [
    "## 8.6) Data cleaning for airline fees"
   ]
  },
  {
   "cell_type": "markdown",
   "metadata": {},
   "source": [
    "Let's first read the airline fee file."
   ]
  },
  {
   "cell_type": "code",
   "execution_count": 12,
   "metadata": {},
   "outputs": [
    {
     "data": {
      "text/html": [
       "<div>\n",
       "<style scoped>\n",
       "    .dataframe tbody tr th:only-of-type {\n",
       "        vertical-align: middle;\n",
       "    }\n",
       "\n",
       "    .dataframe tbody tr th {\n",
       "        vertical-align: top;\n",
       "    }\n",
       "\n",
       "    .dataframe thead th {\n",
       "        text-align: right;\n",
       "    }\n",
       "</style>\n",
       "<table border=\"1\" class=\"dataframe\">\n",
       "  <thead>\n",
       "    <tr style=\"text-align: right;\">\n",
       "      <th></th>\n",
       "      <th>Airline</th>\n",
       "      <th>First_Fees</th>\n",
       "      <th>Second_Fees</th>\n",
       "    </tr>\n",
       "  </thead>\n",
       "  <tbody>\n",
       "    <tr>\n",
       "      <th>0</th>\n",
       "      <td>Endeavor Air Inc.</td>\n",
       "      <td>25</td>\n",
       "      <td>40</td>\n",
       "    </tr>\n",
       "    <tr>\n",
       "      <th>1</th>\n",
       "      <td>American Airlines Inc.</td>\n",
       "      <td>25</td>\n",
       "      <td>40</td>\n",
       "    </tr>\n",
       "    <tr>\n",
       "      <th>2</th>\n",
       "      <td>Alaska Airlines Inc.</td>\n",
       "      <td>25</td>\n",
       "      <td>40</td>\n",
       "    </tr>\n",
       "    <tr>\n",
       "      <th>3</th>\n",
       "      <td>JetBlue Airways</td>\n",
       "      <td>30</td>\n",
       "      <td>40</td>\n",
       "    </tr>\n",
       "    <tr>\n",
       "      <th>4</th>\n",
       "      <td>Delta Air Lines Inc.</td>\n",
       "      <td>30</td>\n",
       "      <td>40</td>\n",
       "    </tr>\n",
       "    <tr>\n",
       "      <th>5</th>\n",
       "      <td>ExpressJet Airlines LLC</td>\n",
       "      <td>25</td>\n",
       "      <td>35</td>\n",
       "    </tr>\n",
       "    <tr>\n",
       "      <th>6</th>\n",
       "      <td>Frontier Airlines Inc.</td>\n",
       "      <td>30</td>\n",
       "      <td>45</td>\n",
       "    </tr>\n",
       "    <tr>\n",
       "      <th>7</th>\n",
       "      <td>Allegiant Air</td>\n",
       "      <td>50</td>\n",
       "      <td>50</td>\n",
       "    </tr>\n",
       "    <tr>\n",
       "      <th>8</th>\n",
       "      <td>Hawaiian Airlines Inc.</td>\n",
       "      <td>30</td>\n",
       "      <td>40</td>\n",
       "    </tr>\n",
       "    <tr>\n",
       "      <th>9</th>\n",
       "      <td>Envoy Air</td>\n",
       "      <td>25</td>\n",
       "      <td>35</td>\n",
       "    </tr>\n",
       "    <tr>\n",
       "      <th>10</th>\n",
       "      <td>Spirit Air Lines</td>\n",
       "      <td>35</td>\n",
       "      <td>45</td>\n",
       "    </tr>\n",
       "    <tr>\n",
       "      <th>11</th>\n",
       "      <td>PSA Airlines Inc.</td>\n",
       "      <td>25</td>\n",
       "      <td>35</td>\n",
       "    </tr>\n",
       "    <tr>\n",
       "      <th>12</th>\n",
       "      <td>SkyWest Airlines Inc.</td>\n",
       "      <td>25</td>\n",
       "      <td>35</td>\n",
       "    </tr>\n",
       "    <tr>\n",
       "      <th>13</th>\n",
       "      <td>United Air Lines Inc.</td>\n",
       "      <td>30</td>\n",
       "      <td>40</td>\n",
       "    </tr>\n",
       "    <tr>\n",
       "      <th>14</th>\n",
       "      <td>Southwest Airlines Co.</td>\n",
       "      <td>0</td>\n",
       "      <td>75</td>\n",
       "    </tr>\n",
       "    <tr>\n",
       "      <th>15</th>\n",
       "      <td>Mesa Airlines Inc.</td>\n",
       "      <td>25</td>\n",
       "      <td>35</td>\n",
       "    </tr>\n",
       "    <tr>\n",
       "      <th>16</th>\n",
       "      <td>Republic Airline</td>\n",
       "      <td>15</td>\n",
       "      <td>25</td>\n",
       "    </tr>\n",
       "  </tbody>\n",
       "</table>\n",
       "</div>"
      ],
      "text/plain": [
       "                    Airline  First_Fees  Second_Fees\n",
       "0         Endeavor Air Inc.          25           40\n",
       "1    American Airlines Inc.          25           40\n",
       "2      Alaska Airlines Inc.          25           40\n",
       "3           JetBlue Airways          30           40\n",
       "4      Delta Air Lines Inc.          30           40\n",
       "5   ExpressJet Airlines LLC          25           35\n",
       "6    Frontier Airlines Inc.          30           45\n",
       "7             Allegiant Air          50           50\n",
       "8    Hawaiian Airlines Inc.          30           40\n",
       "9                 Envoy Air          25           35\n",
       "10         Spirit Air Lines          35           45\n",
       "11        PSA Airlines Inc.          25           35\n",
       "12    SkyWest Airlines Inc.          25           35\n",
       "13    United Air Lines Inc.          30           40\n",
       "14   Southwest Airlines Co.           0           75\n",
       "15       Mesa Airlines Inc.          25           35\n",
       "16         Republic Airline          15           25"
      ]
     },
     "execution_count": 12,
     "metadata": {},
     "output_type": "execute_result"
    }
   ],
   "source": [
    "df_fees = pd.read_csv(\"airlinefee.csv\")\n",
    "df_fees"
   ]
  },
  {
   "cell_type": "markdown",
   "metadata": {},
   "source": [
    "Here, we are going to merge baggage fees with delay information, departure delays, arrival delays, and average delays. "
   ]
  },
  {
   "cell_type": "code",
   "execution_count": 13,
   "metadata": {},
   "outputs": [
    {
     "data": {
      "text/html": [
       "<div>\n",
       "<style scoped>\n",
       "    .dataframe tbody tr th:only-of-type {\n",
       "        vertical-align: middle;\n",
       "    }\n",
       "\n",
       "    .dataframe tbody tr th {\n",
       "        vertical-align: top;\n",
       "    }\n",
       "\n",
       "    .dataframe thead th {\n",
       "        text-align: right;\n",
       "    }\n",
       "</style>\n",
       "<table border=\"1\" class=\"dataframe\">\n",
       "  <thead>\n",
       "    <tr style=\"text-align: right;\">\n",
       "      <th></th>\n",
       "      <th>AIRLINE</th>\n",
       "      <th>DEP_DELAY_AVG</th>\n",
       "      <th>ARR_DELAY_AVG</th>\n",
       "      <th>First_Fees</th>\n",
       "      <th>Second_Fees</th>\n",
       "      <th>AVG_DELAY</th>\n",
       "    </tr>\n",
       "  </thead>\n",
       "  <tbody>\n",
       "    <tr>\n",
       "      <th>0</th>\n",
       "      <td>Endeavor Air Inc.</td>\n",
       "      <td>15.956522</td>\n",
       "      <td>16.518793</td>\n",
       "      <td>25</td>\n",
       "      <td>40</td>\n",
       "      <td>16.237657</td>\n",
       "    </tr>\n",
       "    <tr>\n",
       "      <th>1</th>\n",
       "      <td>American Airlines Inc.</td>\n",
       "      <td>11.047137</td>\n",
       "      <td>11.847480</td>\n",
       "      <td>25</td>\n",
       "      <td>40</td>\n",
       "      <td>11.447308</td>\n",
       "    </tr>\n",
       "    <tr>\n",
       "      <th>2</th>\n",
       "      <td>Alaska Airlines Inc.</td>\n",
       "      <td>9.479610</td>\n",
       "      <td>10.895516</td>\n",
       "      <td>25</td>\n",
       "      <td>40</td>\n",
       "      <td>10.187563</td>\n",
       "    </tr>\n",
       "    <tr>\n",
       "      <th>3</th>\n",
       "      <td>JetBlue Airways</td>\n",
       "      <td>24.144074</td>\n",
       "      <td>24.069630</td>\n",
       "      <td>30</td>\n",
       "      <td>40</td>\n",
       "      <td>24.106852</td>\n",
       "    </tr>\n",
       "    <tr>\n",
       "      <th>4</th>\n",
       "      <td>Delta Air Lines Inc.</td>\n",
       "      <td>10.091902</td>\n",
       "      <td>9.901339</td>\n",
       "      <td>30</td>\n",
       "      <td>40</td>\n",
       "      <td>9.996621</td>\n",
       "    </tr>\n",
       "    <tr>\n",
       "      <th>5</th>\n",
       "      <td>ExpressJet Airlines LLC</td>\n",
       "      <td>20.133192</td>\n",
       "      <td>21.970000</td>\n",
       "      <td>25</td>\n",
       "      <td>35</td>\n",
       "      <td>21.051596</td>\n",
       "    </tr>\n",
       "    <tr>\n",
       "      <th>6</th>\n",
       "      <td>Frontier Airlines Inc.</td>\n",
       "      <td>16.946986</td>\n",
       "      <td>16.638356</td>\n",
       "      <td>30</td>\n",
       "      <td>45</td>\n",
       "      <td>16.792671</td>\n",
       "    </tr>\n",
       "    <tr>\n",
       "      <th>7</th>\n",
       "      <td>Allegiant Air</td>\n",
       "      <td>14.872990</td>\n",
       "      <td>16.736032</td>\n",
       "      <td>50</td>\n",
       "      <td>50</td>\n",
       "      <td>15.804511</td>\n",
       "    </tr>\n",
       "    <tr>\n",
       "      <th>8</th>\n",
       "      <td>Hawaiian Airlines Inc.</td>\n",
       "      <td>5.024444</td>\n",
       "      <td>6.166249</td>\n",
       "      <td>30</td>\n",
       "      <td>40</td>\n",
       "      <td>5.595347</td>\n",
       "    </tr>\n",
       "    <tr>\n",
       "      <th>9</th>\n",
       "      <td>Envoy Air</td>\n",
       "      <td>12.980807</td>\n",
       "      <td>15.577098</td>\n",
       "      <td>25</td>\n",
       "      <td>35</td>\n",
       "      <td>14.278953</td>\n",
       "    </tr>\n",
       "    <tr>\n",
       "      <th>10</th>\n",
       "      <td>Spirit Air Lines</td>\n",
       "      <td>11.937720</td>\n",
       "      <td>12.645879</td>\n",
       "      <td>35</td>\n",
       "      <td>45</td>\n",
       "      <td>12.291800</td>\n",
       "    </tr>\n",
       "    <tr>\n",
       "      <th>11</th>\n",
       "      <td>PSA Airlines Inc.</td>\n",
       "      <td>10.163013</td>\n",
       "      <td>10.225044</td>\n",
       "      <td>25</td>\n",
       "      <td>35</td>\n",
       "      <td>10.194029</td>\n",
       "    </tr>\n",
       "    <tr>\n",
       "      <th>12</th>\n",
       "      <td>SkyWest Airlines Inc.</td>\n",
       "      <td>20.904027</td>\n",
       "      <td>21.794884</td>\n",
       "      <td>25</td>\n",
       "      <td>35</td>\n",
       "      <td>21.349456</td>\n",
       "    </tr>\n",
       "    <tr>\n",
       "      <th>13</th>\n",
       "      <td>United Air Lines Inc.</td>\n",
       "      <td>15.775485</td>\n",
       "      <td>16.316177</td>\n",
       "      <td>30</td>\n",
       "      <td>40</td>\n",
       "      <td>16.045831</td>\n",
       "    </tr>\n",
       "    <tr>\n",
       "      <th>14</th>\n",
       "      <td>Southwest Airlines Co.</td>\n",
       "      <td>9.058392</td>\n",
       "      <td>7.941605</td>\n",
       "      <td>0</td>\n",
       "      <td>75</td>\n",
       "      <td>8.499999</td>\n",
       "    </tr>\n",
       "    <tr>\n",
       "      <th>15</th>\n",
       "      <td>Mesa Airlines Inc.</td>\n",
       "      <td>12.677796</td>\n",
       "      <td>13.569914</td>\n",
       "      <td>25</td>\n",
       "      <td>35</td>\n",
       "      <td>13.123855</td>\n",
       "    </tr>\n",
       "    <tr>\n",
       "      <th>16</th>\n",
       "      <td>Republic Airline</td>\n",
       "      <td>15.646334</td>\n",
       "      <td>17.814075</td>\n",
       "      <td>15</td>\n",
       "      <td>25</td>\n",
       "      <td>16.730204</td>\n",
       "    </tr>\n",
       "  </tbody>\n",
       "</table>\n",
       "</div>"
      ],
      "text/plain": [
       "                    AIRLINE  DEP_DELAY_AVG  ARR_DELAY_AVG  First_Fees  \\\n",
       "0         Endeavor Air Inc.      15.956522      16.518793          25   \n",
       "1    American Airlines Inc.      11.047137      11.847480          25   \n",
       "2      Alaska Airlines Inc.       9.479610      10.895516          25   \n",
       "3           JetBlue Airways      24.144074      24.069630          30   \n",
       "4      Delta Air Lines Inc.      10.091902       9.901339          30   \n",
       "5   ExpressJet Airlines LLC      20.133192      21.970000          25   \n",
       "6    Frontier Airlines Inc.      16.946986      16.638356          30   \n",
       "7             Allegiant Air      14.872990      16.736032          50   \n",
       "8    Hawaiian Airlines Inc.       5.024444       6.166249          30   \n",
       "9                 Envoy Air      12.980807      15.577098          25   \n",
       "10         Spirit Air Lines      11.937720      12.645879          35   \n",
       "11        PSA Airlines Inc.      10.163013      10.225044          25   \n",
       "12    SkyWest Airlines Inc.      20.904027      21.794884          25   \n",
       "13    United Air Lines Inc.      15.775485      16.316177          30   \n",
       "14   Southwest Airlines Co.       9.058392       7.941605           0   \n",
       "15       Mesa Airlines Inc.      12.677796      13.569914          25   \n",
       "16         Republic Airline      15.646334      17.814075          15   \n",
       "\n",
       "    Second_Fees  AVG_DELAY  \n",
       "0            40  16.237657  \n",
       "1            40  11.447308  \n",
       "2            40  10.187563  \n",
       "3            40  24.106852  \n",
       "4            40   9.996621  \n",
       "5            35  21.051596  \n",
       "6            45  16.792671  \n",
       "7            50  15.804511  \n",
       "8            40   5.595347  \n",
       "9            35  14.278953  \n",
       "10           45  12.291800  \n",
       "11           35  10.194029  \n",
       "12           35  21.349456  \n",
       "13           40  16.045831  \n",
       "14           75   8.499999  \n",
       "15           35  13.123855  \n",
       "16           25  16.730204  "
      ]
     },
     "execution_count": 13,
     "metadata": {},
     "output_type": "execute_result"
    }
   ],
   "source": [
    "df_fees.rename(columns = {'Airline':'AIRLINE'}, inplace = True) \n",
    "df_fees_and_delays = pd.merge(left=df_airlines_only,right=df_fees, on = 'AIRLINE')\n",
    "df_fees_and_delays['AVG_DELAY'] = (df_fees_and_delays['DEP_DELAY_AVG']+df_fees_and_delays['ARR_DELAY_AVG'])/2\n",
    "df_fees_and_delays"
   ]
  },
  {
   "cell_type": "markdown",
   "metadata": {},
   "source": [
    "As we can see, there are 17 observations we can use for our analysis. Although there aren’t that many dataset we can use for this part of analysis. We will work with what we have and keep data consistency and up to date as we are only taking data for 2019. Hence, let’s leave the table as it is right now. "
   ]
  },
  {
   "cell_type": "markdown",
   "metadata": {},
   "source": [
    "# 9) Data Visualization"
   ]
  },
  {
   "cell_type": "markdown",
   "metadata": {},
   "source": [
    "In the Data Visualization part, we are going to visualize the data we cleaned in the previous step. Then, we are going to create graphical representation of information and data and inspect them. Furthermore, it will help us prepare our analysis and give us insights on different approaches. "
   ]
  },
  {
   "cell_type": "markdown",
   "metadata": {},
   "source": [
    "## 9.1) Visualize delay causes"
   ]
  },
  {
   "cell_type": "markdown",
   "metadata": {},
   "source": [
    "Let's first visualize the data we have for delay causes"
   ]
  },
  {
   "cell_type": "code",
   "execution_count": 14,
   "metadata": {},
   "outputs": [
    {
     "data": {
      "image/png": "[encoded data removed]",
      "text/plain": [
       "<Figure size 432x288 with 1 Axes>"
      ]
     },
     "metadata": {
      "needs_background": "light"
     },
     "output_type": "display_data"
    }
   ],
   "source": [
    "y_pos = np.arange(len(myDict_causes.keys()))\n",
    "plt.barh(y_pos, myDict_causes.values())\n",
    "plt.yticks(y_pos, myDict_causes.keys())\n",
    "plt.title('Avg. Delays for Each Cause')\n",
    "plt.xlabel('Avg. Delays')\n",
    "plt.ylabel('Cause Name')\n",
    "plt.show()"
   ]
  },
  {
   "cell_type": "markdown",
   "metadata": {},
   "source": [
    "As we can see from the above bar graph, the most influential cause for flight delays is late aircraft delay. Hence, we know that aircraft delays are like the domino effect where if one gets delayed then multiple would also get delayed using the same terminal. Furthermore, we can now move on to analyzation part of our project where we will prove or disprove airports with denser population and airlines charge more extra fees would have more flight delays. But before we do that, let’s first visualize the cleaned data we have for delays vs. baggage fees and delays vs. populations. "
   ]
  },
  {
   "cell_type": "markdown",
   "metadata": {},
   "source": [
    "## 9.2) Visualize delays vs. baggage fees"
   ]
  },
  {
   "cell_type": "markdown",
   "metadata": {},
   "source": [
    "First, let's visualize the scatter plot between each pair of our parameters, that is, DEP_DELAY_AVG, ARR_DELAY_AVG, First_Fees, Second_Fees, AVG_DELAY"
   ]
  },
  {
   "cell_type": "code",
   "execution_count": 15,
   "metadata": {},
   "outputs": [
    {
     "data": {
      "text/plain": [
       "Text(0.5, 0.98, 'delays vs baggage fees')"
      ]
     },
     "execution_count": 15,
     "metadata": {},
     "output_type": "execute_result"
    },
    {
     "data": {
      "image/png": "[encoded data removed]",
      "text/plain": [
       "<Figure size 432x288 with 25 Axes>"
      ]
     },
     "metadata": {
      "needs_background": "light"
     },
     "output_type": "display_data"
    }
   ],
   "source": [
    "fig = pd.plotting.scatter_matrix(df_fees_and_delays)\n",
    "plt.suptitle('delays vs baggage fees', fontsize=12)"
   ]
  },
  {
   "cell_type": "markdown",
   "metadata": {},
   "source": [
    "As we can see, there is a clear difference between first checked baggage fee and second checked baggage fee. Hence, let’s further visualize each."
   ]
  },
  {
   "cell_type": "markdown",
   "metadata": {},
   "source": [
    "Let’s first look at the relation between delays and first checked baggage fees."
   ]
  },
  {
   "cell_type": "code",
   "execution_count": 16,
   "metadata": {},
   "outputs": [
    {
     "data": {
      "text/plain": [
       "Text(0, 0.5, 'Delays')"
      ]
     },
     "execution_count": 16,
     "metadata": {},
     "output_type": "execute_result"
    },
    {
     "data": {
      "image/png": "[encoded data removed]",
      "text/plain": [
       "<Figure size 432x288 with 1 Axes>"
      ]
     },
     "metadata": {
      "needs_background": "light"
     },
     "output_type": "display_data"
    }
   ],
   "source": [
    "baggage_fees = df_fees['First_Fees'].value_counts()\n",
    "baggage_fees.plot.bar(title='First checked-in baggage fees', subplots=True)\n",
    "plt.xlabel('Baggage Fees')\n",
    "plt.ylabel('Delays')"
   ]
  },
  {
   "cell_type": "markdown",
   "metadata": {},
   "source": [
    "As we can see, the most delays occur when airlines charge $25 for the first baggage. It seems like there is no relation between the first baggage fees and delays. However, we are not 100% sure about this. Hence, we cannot conclude anything from the above bar graph."
   ]
  },
  {
   "cell_type": "markdown",
   "metadata": {},
   "source": [
    "Let’s first look at the relation between delays and second checked baggage fees."
   ]
  },
  {
   "cell_type": "code",
   "execution_count": 17,
   "metadata": {},
   "outputs": [
    {
     "data": {
      "text/plain": [
       "Text(0, 0.5, 'Delays')"
      ]
     },
     "execution_count": 17,
     "metadata": {},
     "output_type": "execute_result"
    },
    {
     "data": {
      "image/png": "[encoded data removed]",
      "text/plain": [
       "<Figure size 432x288 with 1 Axes>"
      ]
     },
     "metadata": {
      "needs_background": "light"
     },
     "output_type": "display_data"
    }
   ],
   "source": [
    "Sbaggage_fees = df_fees['Second_Fees'].value_counts()\n",
    "Sbaggage_fees.plot.bar(title='Second checked-in baggage fees')\n",
    "plt.xlabel('Baggage Fees')\n",
    "plt.ylabel('Delays')"
   ]
  },
  {
   "cell_type": "markdown",
   "metadata": {},
   "source": [
    "For the second baggage fees, we can see that there exists a relation between baggage fees and average delays. As the increase in baggage fees indicates the increase in delays. However, this is not the case when the price increases to $45. Hence there is no conclusion we can make just from the above bar graphs. We will further analyse the correlation between baggage fees and delays in our analysis part and primary focus on the second baggage fees since the relation seems more obvious. "
   ]
  },
  {
   "cell_type": "markdown",
   "metadata": {},
   "source": [
    "## 9.3) Visualize Delays vs. Population"
   ]
  },
  {
   "cell_type": "markdown",
   "metadata": {},
   "source": [
    "Now, let's visualize average delay time with respect to population"
   ]
  },
  {
   "cell_type": "code",
   "execution_count": 18,
   "metadata": {},
   "outputs": [
    {
     "data": {
      "text/plain": [
       "[<matplotlib.lines.Line2D at 0x7f8110e37b00>]"
      ]
     },
     "execution_count": 18,
     "metadata": {},
     "output_type": "execute_result"
    },
    {
     "data": {
      "image/png": "[encoded data removed]",
      "text/plain": [
       "<Figure size 432x288 with 1 Axes>"
      ]
     },
     "metadata": {
      "needs_background": "light"
     },
     "output_type": "display_data"
    }
   ],
   "source": [
    "## PLOT POPULATION##\n",
    "a = pop_fac_fin['population']\n",
    "b = pop_fac_fin['DELAY_AVG']\n",
    "a1,b1=np.polyfit(a,b,1)\n",
    "\n",
    "population = pop_fac_fin['population']\n",
    "\n",
    "pred_avgdel = a1*population+b1\n",
    "pop_fac_fin.plot.scatter(title = 'Scatter plot for population v.s. Avg.delay time',x = 'population', y = 'DELAY_AVG')\n",
    "plt.plot(pred_avgdel,'-',color='red')"
   ]
  },
  {
   "cell_type": "markdown",
   "metadata": {},
   "source": [
    "From the graph above, we notice that data are clusttered at the lower level of population, and it seems surprise for us that there is no direct relationship between population and average delay time. We will further analyze this outcome in the following section."
   ]
  },
  {
   "cell_type": "markdown",
   "metadata": {},
   "source": [
    "# 10) Data Analysis"
   ]
  },
  {
   "cell_type": "markdown",
   "metadata": {},
   "source": [
    "In the Data Analysis part, we are going to use the cleaned data we obtained from Data Cleaning and build up from the insights we foresee in our visualization. Furthermore, we will either prove or disprove our hypotheses."
   ]
  },
  {
   "cell_type": "markdown",
   "metadata": {},
   "source": [
    "Let's first start with Delays vs. Baggage fees. In this part, we will work on the relationship between average delay time and baggage fees. In fact, we will look into first and second baggage fees separately for their effect on average delay time. Our hypothesis is that airline with higher baggage fees will have less flight delays since each airline will provide the service for checked-in bags and higher baggage fees mean more cost spent on this service, which may reflect the cost airlines spent to fly people to their destination. and in this part of data analysis, we will try to find out the validity of our hypothesis. Before data analysis, we firt check the correlation between average delay time and city population."
   ]
  },
  {
   "cell_type": "markdown",
   "metadata": {},
   "source": [
    "## 10.1) Part One: Delays vs. Fees"
   ]
  },
  {
   "cell_type": "code",
   "execution_count": 19,
   "metadata": {},
   "outputs": [
    {
     "data": {
      "text/html": [
       "<div>\n",
       "<style scoped>\n",
       "    .dataframe tbody tr th:only-of-type {\n",
       "        vertical-align: middle;\n",
       "    }\n",
       "\n",
       "    .dataframe tbody tr th {\n",
       "        vertical-align: top;\n",
       "    }\n",
       "\n",
       "    .dataframe thead th {\n",
       "        text-align: right;\n",
       "    }\n",
       "</style>\n",
       "<table border=\"1\" class=\"dataframe\">\n",
       "  <thead>\n",
       "    <tr style=\"text-align: right;\">\n",
       "      <th></th>\n",
       "      <th>DEP_DELAY_AVG</th>\n",
       "      <th>ARR_DELAY_AVG</th>\n",
       "      <th>First_Fees</th>\n",
       "      <th>Second_Fees</th>\n",
       "      <th>AVG_DELAY</th>\n",
       "    </tr>\n",
       "  </thead>\n",
       "  <tbody>\n",
       "    <tr>\n",
       "      <th>count</th>\n",
       "      <td>17.000000</td>\n",
       "      <td>17.000000</td>\n",
       "      <td>17.000000</td>\n",
       "      <td>17.000000</td>\n",
       "      <td>17.000000</td>\n",
       "    </tr>\n",
       "    <tr>\n",
       "      <th>mean</th>\n",
       "      <td>13.931790</td>\n",
       "      <td>14.742828</td>\n",
       "      <td>26.470588</td>\n",
       "      <td>40.882353</td>\n",
       "      <td>14.337309</td>\n",
       "    </tr>\n",
       "    <tr>\n",
       "      <th>std</th>\n",
       "      <td>4.863200</td>\n",
       "      <td>5.030527</td>\n",
       "      <td>9.805086</td>\n",
       "      <td>10.343370</td>\n",
       "      <td>4.923607</td>\n",
       "    </tr>\n",
       "    <tr>\n",
       "      <th>min</th>\n",
       "      <td>5.024444</td>\n",
       "      <td>6.166249</td>\n",
       "      <td>0.000000</td>\n",
       "      <td>25.000000</td>\n",
       "      <td>5.595347</td>\n",
       "    </tr>\n",
       "    <tr>\n",
       "      <th>25%</th>\n",
       "      <td>10.163013</td>\n",
       "      <td>10.895516</td>\n",
       "      <td>25.000000</td>\n",
       "      <td>35.000000</td>\n",
       "      <td>10.194029</td>\n",
       "    </tr>\n",
       "    <tr>\n",
       "      <th>50%</th>\n",
       "      <td>12.980807</td>\n",
       "      <td>15.577098</td>\n",
       "      <td>25.000000</td>\n",
       "      <td>40.000000</td>\n",
       "      <td>14.278953</td>\n",
       "    </tr>\n",
       "    <tr>\n",
       "      <th>75%</th>\n",
       "      <td>15.956522</td>\n",
       "      <td>16.736032</td>\n",
       "      <td>30.000000</td>\n",
       "      <td>40.000000</td>\n",
       "      <td>16.730204</td>\n",
       "    </tr>\n",
       "    <tr>\n",
       "      <th>max</th>\n",
       "      <td>24.144074</td>\n",
       "      <td>24.069630</td>\n",
       "      <td>50.000000</td>\n",
       "      <td>75.000000</td>\n",
       "      <td>24.106852</td>\n",
       "    </tr>\n",
       "  </tbody>\n",
       "</table>\n",
       "</div>"
      ],
      "text/plain": [
       "       DEP_DELAY_AVG  ARR_DELAY_AVG  First_Fees  Second_Fees  AVG_DELAY\n",
       "count      17.000000      17.000000   17.000000    17.000000  17.000000\n",
       "mean       13.931790      14.742828   26.470588    40.882353  14.337309\n",
       "std         4.863200       5.030527    9.805086    10.343370   4.923607\n",
       "min         5.024444       6.166249    0.000000    25.000000   5.595347\n",
       "25%        10.163013      10.895516   25.000000    35.000000  10.194029\n",
       "50%        12.980807      15.577098   25.000000    40.000000  14.278953\n",
       "75%        15.956522      16.736032   30.000000    40.000000  16.730204\n",
       "max        24.144074      24.069630   50.000000    75.000000  24.106852"
      ]
     },
     "execution_count": 19,
     "metadata": {},
     "output_type": "execute_result"
    }
   ],
   "source": [
    "desc=df_fees_and_delays.describe()\n",
    "desc"
   ]
  },
  {
   "cell_type": "code",
   "execution_count": 20,
   "metadata": {},
   "outputs": [
    {
     "data": {
      "text/html": [
       "<div>\n",
       "<style scoped>\n",
       "    .dataframe tbody tr th:only-of-type {\n",
       "        vertical-align: middle;\n",
       "    }\n",
       "\n",
       "    .dataframe tbody tr th {\n",
       "        vertical-align: top;\n",
       "    }\n",
       "\n",
       "    .dataframe thead th {\n",
       "        text-align: right;\n",
       "    }\n",
       "</style>\n",
       "<table border=\"1\" class=\"dataframe\">\n",
       "  <thead>\n",
       "    <tr style=\"text-align: right;\">\n",
       "      <th></th>\n",
       "      <th>DEP_DELAY_AVG</th>\n",
       "      <th>ARR_DELAY_AVG</th>\n",
       "      <th>First_Fees</th>\n",
       "      <th>Second_Fees</th>\n",
       "      <th>AVG_DELAY</th>\n",
       "    </tr>\n",
       "  </thead>\n",
       "  <tbody>\n",
       "    <tr>\n",
       "      <th>DEP_DELAY_AVG</th>\n",
       "      <td>1.000000</td>\n",
       "      <td>0.981234</td>\n",
       "      <td>0.157152</td>\n",
       "      <td>-0.270577</td>\n",
       "      <td>0.995137</td>\n",
       "    </tr>\n",
       "    <tr>\n",
       "      <th>ARR_DELAY_AVG</th>\n",
       "      <td>0.981234</td>\n",
       "      <td>1.000000</td>\n",
       "      <td>0.209158</td>\n",
       "      <td>-0.375126</td>\n",
       "      <td>0.995456</td>\n",
       "    </tr>\n",
       "    <tr>\n",
       "      <th>First_Fees</th>\n",
       "      <td>0.157152</td>\n",
       "      <td>0.209158</td>\n",
       "      <td>1.000000</td>\n",
       "      <td>-0.260100</td>\n",
       "      <td>0.184462</td>\n",
       "    </tr>\n",
       "    <tr>\n",
       "      <th>Second_Fees</th>\n",
       "      <td>-0.270577</td>\n",
       "      <td>-0.375126</td>\n",
       "      <td>-0.260100</td>\n",
       "      <td>1.000000</td>\n",
       "      <td>-0.325265</td>\n",
       "    </tr>\n",
       "    <tr>\n",
       "      <th>AVG_DELAY</th>\n",
       "      <td>0.995137</td>\n",
       "      <td>0.995456</td>\n",
       "      <td>0.184462</td>\n",
       "      <td>-0.325265</td>\n",
       "      <td>1.000000</td>\n",
       "    </tr>\n",
       "  </tbody>\n",
       "</table>\n",
       "</div>"
      ],
      "text/plain": [
       "               DEP_DELAY_AVG  ARR_DELAY_AVG  First_Fees  Second_Fees  \\\n",
       "DEP_DELAY_AVG       1.000000       0.981234    0.157152    -0.270577   \n",
       "ARR_DELAY_AVG       0.981234       1.000000    0.209158    -0.375126   \n",
       "First_Fees          0.157152       0.209158    1.000000    -0.260100   \n",
       "Second_Fees        -0.270577      -0.375126   -0.260100     1.000000   \n",
       "AVG_DELAY           0.995137       0.995456    0.184462    -0.325265   \n",
       "\n",
       "               AVG_DELAY  \n",
       "DEP_DELAY_AVG   0.995137  \n",
       "ARR_DELAY_AVG   0.995456  \n",
       "First_Fees      0.184462  \n",
       "Second_Fees    -0.325265  \n",
       "AVG_DELAY       1.000000  "
      ]
     },
     "execution_count": 20,
     "metadata": {},
     "output_type": "execute_result"
    }
   ],
   "source": [
    "corrs = df_fees_and_delays.corr()\n",
    "corrs"
   ]
  },
  {
   "cell_type": "markdown",
   "metadata": {},
   "source": [
    "From the table we can see that on the one hand, the correlation between first checked in bag fee and average delay is 0.184462, which shows a slightly positive correlation between the two. on the other hand, the correlation between second checked in bag fee and average delay is -0.325265, which shows a stronger negative correlation between the two. we will make use of OLS model to estimate if second baggage fee is a strong predictor of average airline delays in a linear regression model."
   ]
  },
  {
   "cell_type": "code",
   "execution_count": 21,
   "metadata": {},
   "outputs": [
    {
     "name": "stdout",
     "output_type": "stream",
     "text": [
      "                            OLS Regression Results                            \n",
      "==============================================================================\n",
      "Dep. Variable:              AVG_DELAY   R-squared:                       0.034\n",
      "Model:                            OLS   Adj. R-squared:                 -0.030\n",
      "Method:                 Least Squares   F-statistic:                    0.5284\n",
      "Date:                Thu, 12 Dec 2019   Prob (F-statistic):              0.478\n",
      "Time:                        23:11:43   Log-Likelihood:                -50.411\n",
      "No. Observations:                  17   AIC:                             104.8\n",
      "Df Residuals:                      15   BIC:                             106.5\n",
      "Df Model:                           1                                         \n",
      "Covariance Type:            nonrobust                                         \n",
      "==============================================================================\n",
      "                 coef    std err          t      P>|t|      [0.025      0.975]\n",
      "------------------------------------------------------------------------------\n",
      "Intercept     11.8854      3.584      3.316      0.005       4.246      19.525\n",
      "First_Fees     0.0926      0.127      0.727      0.478      -0.179       0.364\n",
      "==============================================================================\n",
      "Omnibus:                        0.404   Durbin-Watson:                   2.502\n",
      "Prob(Omnibus):                  0.817   Jarque-Bera (JB):                0.408\n",
      "Skew:                           0.301   Prob(JB):                        0.815\n",
      "Kurtosis:                       2.538   Cond. No.                         83.3\n",
      "==============================================================================\n",
      "\n",
      "Warnings:\n",
      "[1] Standard Errors assume that the covariance matrix of the errors is correctly specified.\n"
     ]
    },
    {
     "name": "stderr",
     "output_type": "stream",
     "text": [
      "/opt/conda/lib/python3.6/site-packages/scipy/stats/stats.py:1394: UserWarning: kurtosistest only valid for n>=20 ... continuing anyway, n=17\n",
      "  \"anyway, n=%i\" % int(n))\n"
     ]
    }
   ],
   "source": [
    "outcome_1, predictors_1 = patsy.dmatrices('AVG_DELAY ~ First_Fees', df_fees_and_delays)\n",
    "mod_1 = sm.OLS(outcome_1, predictors_1)\n",
    "res_1 = mod_1.fit()\n",
    "print(res_1.summary())"
   ]
  },
  {
   "cell_type": "markdown",
   "metadata": {},
   "source": [
    "as we can see, the p-value is 0.478 which is pretty big and we are not able to show that First checked-in baggage fee parameter is significant. (we cannot really rely on asymptotic results since there are only 17 observations for 17 airlines, so it is noted that we have to interpret the results with care.) For the part below, we will make use of OLS model to estimate if second baggage fee is a strong predictor of average airline delays in a linear regression model."
   ]
  },
  {
   "cell_type": "code",
   "execution_count": 22,
   "metadata": {
    "scrolled": true
   },
   "outputs": [
    {
     "name": "stdout",
     "output_type": "stream",
     "text": [
      "                            OLS Regression Results                            \n",
      "==============================================================================\n",
      "Dep. Variable:              AVG_DELAY   R-squared:                       0.106\n",
      "Model:                            OLS   Adj. R-squared:                  0.046\n",
      "Method:                 Least Squares   F-statistic:                     1.775\n",
      "Date:                Thu, 12 Dec 2019   Prob (F-statistic):              0.203\n",
      "Time:                        23:11:43   Log-Likelihood:                -49.755\n",
      "No. Observations:                  17   AIC:                             103.5\n",
      "Df Residuals:                      15   BIC:                             105.2\n",
      "Df Model:                           1                                         \n",
      "Covariance Type:            nonrobust                                         \n",
      "===============================================================================\n",
      "                  coef    std err          t      P>|t|      [0.025      0.975]\n",
      "-------------------------------------------------------------------------------\n",
      "Intercept      20.6672      4.893      4.224      0.001      10.239      31.095\n",
      "Second_Fees    -0.1548      0.116     -1.332      0.203      -0.403       0.093\n",
      "==============================================================================\n",
      "Omnibus:                        0.279   Durbin-Watson:                   2.598\n",
      "Prob(Omnibus):                  0.870   Jarque-Bera (JB):                0.203\n",
      "Skew:                           0.217   Prob(JB):                        0.904\n",
      "Kurtosis:                       2.688   Cond. No.                         177.\n",
      "==============================================================================\n",
      "\n",
      "Warnings:\n",
      "[1] Standard Errors assume that the covariance matrix of the errors is correctly specified.\n"
     ]
    },
    {
     "name": "stderr",
     "output_type": "stream",
     "text": [
      "/opt/conda/lib/python3.6/site-packages/scipy/stats/stats.py:1394: UserWarning: kurtosistest only valid for n>=20 ... continuing anyway, n=17\n",
      "  \"anyway, n=%i\" % int(n))\n"
     ]
    }
   ],
   "source": [
    "outcome_2, predictors_2 = patsy.dmatrices('AVG_DELAY ~ Second_Fees', df_fees_and_delays)\n",
    "mod_2 = sm.OLS(outcome_2, predictors_2)\n",
    "res_2 = mod_2.fit()\n",
    "print(res_2.summary())"
   ]
  },
  {
   "cell_type": "markdown",
   "metadata": {},
   "source": [
    "as we can see, the p-value is 0.203 which is pretty big and we are not able to show that Second checked-in baggage fee parameter is significant but it is more significant than first checked-in baggage fee. For the part below, we will try to fit a line to the datapoints and check to see the number of inliers that support our fitted line."
   ]
  },
  {
   "cell_type": "code",
   "execution_count": 23,
   "metadata": {},
   "outputs": [
    {
     "name": "stdout",
     "output_type": "stream",
     "text": [
      "-0.15483127729387147 20.66717589046848\n"
     ]
    }
   ],
   "source": [
    "a1, b1 = np.polyfit(df_fees_and_delays['Second_Fees'], df_fees_and_delays['AVG_DELAY'], 1)\n",
    "print(a1, b1)"
   ]
  },
  {
   "cell_type": "code",
   "execution_count": 24,
   "metadata": {},
   "outputs": [
    {
     "data": {
      "text/plain": [
       "[<matplotlib.lines.Line2D at 0x7f8110d7c2e8>]"
      ]
     },
     "execution_count": 24,
     "metadata": {},
     "output_type": "execute_result"
    },
    {
     "data": {
      "image/png": "[encoded data removed]",
      "text/plain": [
       "<Figure size 432x288 with 1 Axes>"
      ]
     },
     "metadata": {
      "needs_background": "light"
     },
     "output_type": "display_data"
    }
   ],
   "source": [
    "price_min = df_fees_and_delays['Second_Fees'].min()\n",
    "price_max = df_fees_and_delays['Second_Fees'].max()\n",
    "price = np.array(range(price_max+1-price_min))+price_min\n",
    "pred_delay = a1*price+b1\n",
    "plt.title('Predict Average Delay from Second Checked_in Baggage Fees')\n",
    "plt.xlabel('Second_Fees')\n",
    "plt.ylabel('AVG_DELAY')\n",
    "plt.scatter(df_fees_and_delays['Second_Fees'], df_fees_and_delays['AVG_DELAY'], s=20);\n",
    "plt.plot(price, pred_delay, c='red')"
   ]
  },
  {
   "cell_type": "markdown",
   "metadata": {},
   "source": [
    "From the graph, we can see that the line is very loosely fit(very few inliers by which we could assert that there is a relationship between average delay and second fees) to datapoints with x representing second checked-in bag fees and y representing average delay."
   ]
  },
  {
   "cell_type": "markdown",
   "metadata": {},
   "source": [
    "## 10.2) Part Two: Delays vs. Population"
   ]
  },
  {
   "cell_type": "markdown",
   "metadata": {},
   "source": [
    "In this part, we will work on the relationship between average delay time and city population.  Our hypothesis is that airports with less human population or density may have more delays since lower population means local airport staff would have less experience, and they would also have less fundings since less people are going to utilize those airports. \n",
    "\n",
    "Before data analysis, we firt check the correlation between average delay time and city population."
   ]
  },
  {
   "cell_type": "markdown",
   "metadata": {},
   "source": [
    "### 10.2.1) CORRELATION TABLE"
   ]
  },
  {
   "cell_type": "markdown",
   "metadata": {},
   "source": [
    "The correlation table below shows that population and density are not really related to the average flight delay. On the other hands, it shows that the ranking of cities affect on average flight delay."
   ]
  },
  {
   "cell_type": "code",
   "execution_count": 25,
   "metadata": {},
   "outputs": [
    {
     "data": {
      "text/html": [
       "<div>\n",
       "<style scoped>\n",
       "    .dataframe tbody tr th:only-of-type {\n",
       "        vertical-align: middle;\n",
       "    }\n",
       "\n",
       "    .dataframe tbody tr th {\n",
       "        vertical-align: top;\n",
       "    }\n",
       "\n",
       "    .dataframe thead th {\n",
       "        text-align: right;\n",
       "    }\n",
       "</style>\n",
       "<table border=\"1\" class=\"dataframe\">\n",
       "  <thead>\n",
       "    <tr style=\"text-align: right;\">\n",
       "      <th></th>\n",
       "      <th>population</th>\n",
       "      <th>density</th>\n",
       "      <th>ranking</th>\n",
       "      <th>DELAY_AVG</th>\n",
       "    </tr>\n",
       "  </thead>\n",
       "  <tbody>\n",
       "    <tr>\n",
       "      <th>population</th>\n",
       "      <td>1.000000</td>\n",
       "      <td>0.694342</td>\n",
       "      <td>-0.538001</td>\n",
       "      <td>-0.058887</td>\n",
       "    </tr>\n",
       "    <tr>\n",
       "      <th>density</th>\n",
       "      <td>0.694342</td>\n",
       "      <td>1.000000</td>\n",
       "      <td>-0.495767</td>\n",
       "      <td>0.034604</td>\n",
       "    </tr>\n",
       "    <tr>\n",
       "      <th>ranking</th>\n",
       "      <td>-0.538001</td>\n",
       "      <td>-0.495767</td>\n",
       "      <td>1.000000</td>\n",
       "      <td>0.211685</td>\n",
       "    </tr>\n",
       "    <tr>\n",
       "      <th>DELAY_AVG</th>\n",
       "      <td>-0.058887</td>\n",
       "      <td>0.034604</td>\n",
       "      <td>0.211685</td>\n",
       "      <td>1.000000</td>\n",
       "    </tr>\n",
       "  </tbody>\n",
       "</table>\n",
       "</div>"
      ],
      "text/plain": [
       "            population   density   ranking  DELAY_AVG\n",
       "population    1.000000  0.694342 -0.538001  -0.058887\n",
       "density       0.694342  1.000000 -0.495767   0.034604\n",
       "ranking      -0.538001 -0.495767  1.000000   0.211685\n",
       "DELAY_AVG    -0.058887  0.034604  0.211685   1.000000"
      ]
     },
     "execution_count": 25,
     "metadata": {},
     "output_type": "execute_result"
    }
   ],
   "source": [
    "corr = pop_fac_fin.corr()\n",
    "corr"
   ]
  },
  {
   "cell_type": "markdown",
   "metadata": {},
   "source": [
    "### 10.2.2) By Population"
   ]
  },
  {
   "cell_type": "markdown",
   "metadata": {},
   "source": [
    "Now we approach our analysis from the aspect of the population. Although the correlation table shows that there is no close relationship between population and delay time, we still want to check this result from the scatter plot with predicted line above, and to take a close look at how ranking is connected with the average delay time.\n",
    "\n",
    "Now we start by visualizing the data through the scatter plot and create an OLS regression model to predict how population will affect the average delay time."
   ]
  },
  {
   "cell_type": "code",
   "execution_count": 26,
   "metadata": {},
   "outputs": [
    {
     "data": {
      "image/png": "[encoded data removed]",
      "text/plain": [
       "<Figure size 432x288 with 1 Axes>"
      ]
     },
     "metadata": {
      "needs_background": "light"
     },
     "output_type": "display_data"
    }
   ],
   "source": [
    "#creating data\n",
    "x = np.array(pop_fac_fin['population'])\n",
    "y = np.array(pop_fac_fin['DELAY_AVG'])\n",
    "\n",
    "#creating OLS regression\n",
    "slope, intercept, r_value, p_value, std_err = stats.linregress(x,y)\n",
    "def linefitline(b):\n",
    "    return intercept + slope * b\n",
    "line1 = linefitline(x)\n",
    "\n",
    "#plot line\n",
    "plt.scatter(x,y)\n",
    "plt.plot(x,line1, c = 'r')\n",
    "plt.title(\"Scatter plot between Population and Avg.delay time\")\n",
    "plt.xlabel(\"Population\")\n",
    "plt.ylabel(\"Avg.delay time\")\n",
    "plt.show()"
   ]
  },
  {
   "cell_type": "markdown",
   "metadata": {},
   "source": [
    "Through the graph above, we can observe that city populaion and average delay time are indeed not in a perfect correlation, and the flight delay is focused on cities whose population is small along with the decreasing predict line.\n",
    "\n",
    "Now we will analyize the data from the summary of data fitting."
   ]
  },
  {
   "cell_type": "code",
   "execution_count": 27,
   "metadata": {},
   "outputs": [
    {
     "name": "stdout",
     "output_type": "stream",
     "text": [
      "                            OLS Regression Results                            \n",
      "==============================================================================\n",
      "Dep. Variable:              DELAY_AVG   R-squared:                       0.003\n",
      "Model:                            OLS   Adj. R-squared:                 -0.000\n",
      "Method:                 Least Squares   F-statistic:                    0.9952\n",
      "Date:                Thu, 12 Dec 2019   Prob (F-statistic):              0.319\n",
      "Time:                        23:11:44   Log-Likelihood:                -1044.4\n",
      "No. Observations:                 288   AIC:                             2093.\n",
      "Df Residuals:                     286   BIC:                             2100.\n",
      "Df Model:                           1                                         \n",
      "Covariance Type:            nonrobust                                         \n",
      "==============================================================================\n",
      "                 coef    std err          t      P>|t|      [0.025      0.975]\n",
      "------------------------------------------------------------------------------\n",
      "Intercept     15.6527      0.576     27.184      0.000      14.519      16.786\n",
      "population -3.083e-07   3.09e-07     -0.998      0.319   -9.17e-07       3e-07\n",
      "==============================================================================\n",
      "Omnibus:                      105.700   Durbin-Watson:                   1.965\n",
      "Prob(Omnibus):                  0.000   Jarque-Bera (JB):              327.133\n",
      "Skew:                           1.638   Prob(JB):                     9.20e-72\n",
      "Kurtosis:                       7.066   Cond. No.                     2.00e+06\n",
      "==============================================================================\n",
      "\n",
      "Warnings:\n",
      "[1] Standard Errors assume that the covariance matrix of the errors is correctly specified.\n",
      "[2] The condition number is large,  2e+06. This might indicate that there are\n",
      "strong multicollinearity or other numerical problems.\n"
     ]
    }
   ],
   "source": [
    "## TO FIND P VALUE##\n",
    "\n",
    "out, pred = patsy.dmatrices('DELAY_AVG~population',pop_fac_fin)\n",
    "mod = sm.OLS(out,pred)\n",
    "res = mod.fit()\n",
    "\n",
    "print(res.summary())"
   ]
  },
  {
   "cell_type": "markdown",
   "metadata": {},
   "source": [
    "The P-value indicates that the population does not affect the flight delay time becuase it is greater than alpha, which is 0.05.\n",
    "\n",
    "We will also check the R-squared value to varify the relationship between population and average delay time. To do so, we will create a function of polynomial regression and look for the determination from the summary. R-squared illustrates to what extent the variance of population explains the variance of airlines' average delay time. So, if the R2 of a model is 0.50, then approximately half of the observed variation can be explained by the model's inputs."
   ]
  },
  {
   "cell_type": "code",
   "execution_count": 28,
   "metadata": {},
   "outputs": [
    {
     "data": {
      "text/plain": [
       "{'polynomial': [-1.8432461444888133e-20,\n",
       "  5.452565600501179e-13,\n",
       "  -3.4969173665509403e-06,\n",
       "  16.628426860488702],\n",
       " 'determination': 0.034748547913050126}"
      ]
     },
     "execution_count": 28,
     "metadata": {},
     "output_type": "execute_result"
    }
   ],
   "source": [
    "###TO CHECK R SQUARE####\n",
    "\n",
    "\n",
    "import numpy\n",
    "\n",
    "# Polynomial Regression\n",
    "def polyfit(x, y, degree):\n",
    "    results = {}\n",
    "\n",
    "    coeffs = numpy.polyfit(x, y, degree)\n",
    "\n",
    "     # Polynomial Coefficients\n",
    "    results['polynomial'] = coeffs.tolist()\n",
    "\n",
    "    # r-squared\n",
    "    p = numpy.poly1d(coeffs)\n",
    "    # fit values, and mean\n",
    "    yhat = p(x)                         # or [p(z) for z in x]\n",
    "    ybar = numpy.sum(y)/len(y)          # or sum(y)/len(y)\n",
    "    ssreg = numpy.sum((yhat-ybar)**2)   # or sum([ (yihat - ybar)**2 for yihat in yhat])\n",
    "    sstot = numpy.sum((y - ybar)**2)    # or sum([ (yi - ybar)**2 for yi in y])\n",
    "    results['determination'] = ssreg / sstot\n",
    "\n",
    "    return results\n",
    "\n",
    "x = pop_fac_fin['population']\n",
    "y = pop_fac_fin['DELAY_AVG']\n",
    "\n",
    "polyfit(x,y,3)"
   ]
  },
  {
   "cell_type": "markdown",
   "metadata": {},
   "source": [
    "From our summary aove, the R-squared value is around 0.035 which is pretty far from 0.5, which means even half of the average delay time cannot be explained from the perspective of city population. Thus we can conclude that the population does not really relate to average delay time."
   ]
  },
  {
   "cell_type": "markdown",
   "metadata": {},
   "source": [
    "### 10.2.3) By Density"
   ]
  },
  {
   "cell_type": "markdown",
   "metadata": {},
   "source": [
    "Since our results showed that there was no direct relationship between the population and average delay time, we start to think that instead of analyzing from the population, we could approach from the city density.\n",
    "\n",
    "So, repeating what we did above, we will analyze population density data first in a scatter plot and try to fit our data in a linear regression model, and predict the relationship between denisty and average delay time through our model."
   ]
  },
  {
   "cell_type": "code",
   "execution_count": 29,
   "metadata": {},
   "outputs": [
    {
     "data": {
      "text/plain": [
       "[<matplotlib.lines.Line2D at 0x7f8110cf2898>]"
      ]
     },
     "execution_count": 29,
     "metadata": {},
     "output_type": "execute_result"
    },
    {
     "data": {
      "image/png": "[encoded data removed]",
      "text/plain": [
       "<Figure size 432x288 with 1 Axes>"
      ]
     },
     "metadata": {
      "needs_background": "light"
     },
     "output_type": "display_data"
    }
   ],
   "source": [
    "##PLOT DENSITY\n",
    "c = pop_fac_fin['density']\n",
    "d = pop_fac_fin['DELAY_AVG']\n",
    "c1,d1=np.polyfit(c,d,1)\n",
    "\n",
    "population = pop_fac_fin['density']\n",
    "\n",
    "pred_avgdel2 = c1*population+d1\n",
    "pop_fac_fin.plot.scatter(x = 'density', y = 'DELAY_AVG')\n",
    "plt.title(\"Scatter plot between Population and Avg.delay time (Linear Regression model)\")\n",
    "plt.xlabel(\"Density\")\n",
    "plt.ylabel(\"Avg.Delay time\")\n",
    "plt.plot(pred_avgdel2,'-',color='red')"
   ]
  },
  {
   "cell_type": "markdown",
   "metadata": {},
   "source": [
    "Unfortunately, from the graph above, denisty and average delay time do not follow a good correlation and neither does does our model being predictive. \n",
    "\n",
    "Next, we will check from the OLS regression model. "
   ]
  },
  {
   "cell_type": "code",
   "execution_count": 30,
   "metadata": {},
   "outputs": [
    {
     "data": {
      "image/png": "[encoded data removed]",
      "text/plain": [
       "<Figure size 432x288 with 1 Axes>"
      ]
     },
     "metadata": {
      "needs_background": "light"
     },
     "output_type": "display_data"
    }
   ],
   "source": [
    "## PLOT POPULATION DENSITY\n",
    "%matplotlib inline\n",
    "import numpy as np\n",
    "from sklearn.metrics import r2_score\n",
    "import matplotlib.pyplot as plt\n",
    "from scipy import stats\n",
    "\n",
    "#creating data\n",
    "x = np.array(pop_fac_fin['density'])\n",
    "y = np.array(pop_fac_fin['DELAY_AVG'])\n",
    "\n",
    "#creating OLS regression\n",
    "slope, intercept, r_value, p_value, std_err = stats.linregress(x,y)\n",
    "def linefitline(b):\n",
    "    return intercept + slope * b\n",
    "line1 = linefitline(x)\n",
    "\n",
    "#plot line\n",
    "plt.scatter(x,y)\n",
    "plt.plot(x,line1, c = 'r')\n",
    "plt.title(\"Scatter plot between Population and Avg.delay time (OLS Regression model)\")\n",
    "plt.xlabel(\"Density\")\n",
    "plt.ylabel(\"Avg.Delay time\")\n",
    "plt.show()"
   ]
  },
  {
   "cell_type": "markdown",
   "metadata": {},
   "source": [
    "The OLS model has a better predict line than the linear regression one. The scatter graph above shows that if the city has lower density of population then the chance that flight can be delayed increase. The predict line of density differs to population data with having slope going to upward. \n",
    "\n",
    "Now, we will find the p value and R-squared value for our OLS regression model."
   ]
  },
  {
   "cell_type": "code",
   "execution_count": 31,
   "metadata": {},
   "outputs": [
    {
     "name": "stdout",
     "output_type": "stream",
     "text": [
      "                            OLS Regression Results                            \n",
      "==============================================================================\n",
      "Dep. Variable:              DELAY_AVG   R-squared:                       0.001\n",
      "Model:                            OLS   Adj. R-squared:                 -0.002\n",
      "Method:                 Least Squares   F-statistic:                    0.3429\n",
      "Date:                Thu, 12 Dec 2019   Prob (F-statistic):              0.559\n",
      "Time:                        23:11:45   Log-Likelihood:                -1044.8\n",
      "No. Observations:                 288   AIC:                             2094.\n",
      "Df Residuals:                     286   BIC:                             2101.\n",
      "Df Model:                           1                                         \n",
      "Covariance Type:            nonrobust                                         \n",
      "==============================================================================\n",
      "                 coef    std err          t      P>|t|      [0.025      0.975]\n",
      "------------------------------------------------------------------------------\n",
      "Intercept     15.1349      0.758     19.971      0.000      13.643      16.627\n",
      "density        0.0003      0.000      0.586      0.559      -0.001       0.001\n",
      "==============================================================================\n",
      "Omnibus:                      110.580   Durbin-Watson:                   1.970\n",
      "Prob(Omnibus):                  0.000   Jarque-Bera (JB):              358.708\n",
      "Skew:                           1.699   Prob(JB):                     1.28e-78\n",
      "Kurtosis:                       7.283   Cond. No.                     2.28e+03\n",
      "==============================================================================\n",
      "\n",
      "Warnings:\n",
      "[1] Standard Errors assume that the covariance matrix of the errors is correctly specified.\n",
      "[2] The condition number is large, 2.28e+03. This might indicate that there are\n",
      "strong multicollinearity or other numerical problems.\n"
     ]
    }
   ],
   "source": [
    "## TO FIND P VALUE\n",
    "out2, pred2 = patsy.dmatrices('DELAY_AVG~density',pop_fac_fin)\n",
    "mod2 = sm.OLS(out2,pred2)\n",
    "res2 = mod2.fit()\n",
    "\n",
    "print(res2.summary())"
   ]
  },
  {
   "cell_type": "code",
   "execution_count": 32,
   "metadata": {},
   "outputs": [
    {
     "data": {
      "text/plain": [
       "{'polynomial': [-1.1140994780482866e-11,\n",
       "  2.557877200028333e-07,\n",
       "  -0.0008402617960518418,\n",
       "  15.86553272015568],\n",
       " 'determination': 0.0036090680175188644}"
      ]
     },
     "execution_count": 32,
     "metadata": {},
     "output_type": "execute_result"
    }
   ],
   "source": [
    "###TO CHECK R SQUARE####\n",
    "\n",
    "\n",
    "import numpy\n",
    "\n",
    "# Polynomial Regression\n",
    "def polyfit(x, y, degree):\n",
    "    results = {}\n",
    "\n",
    "    coeffs = numpy.polyfit(x, y, degree)\n",
    "\n",
    "     # Polynomial Coefficients\n",
    "    results['polynomial'] = coeffs.tolist()\n",
    "\n",
    "    # r-squared\n",
    "    p = numpy.poly1d(coeffs)\n",
    "    # fit values, and mean\n",
    "    yhat = p(x)                         # or [p(z) for z in x]\n",
    "    ybar = numpy.sum(y)/len(y)          # or sum(y)/len(y)\n",
    "    ssreg = numpy.sum((yhat-ybar)**2)   # or sum([ (yihat - ybar)**2 for yihat in yhat])\n",
    "    sstot = numpy.sum((y - ybar)**2)    # or sum([ (yi - ybar)**2 for yi in y])\n",
    "    results['determination'] = ssreg / sstot\n",
    "\n",
    "    return results\n",
    "\n",
    "x = pop_fac_fin['density']\n",
    "y = pop_fac_fin['DELAY_AVG']\n",
    "\n",
    "polyfit(x,y,3)"
   ]
  },
  {
   "cell_type": "markdown",
   "metadata": {},
   "source": [
    "The P-Value and R-squared value here, again, indicate that there is no relation between density and the average flight delay with p=0.56, R^2=0.0037. Our alpha value to determine the significancy is 0.05.  Now we confirm that there is no clear relationship between either city population or density and average delay time."
   ]
  },
  {
   "cell_type": "markdown",
   "metadata": {},
   "source": [
    "### 10.2.4) By Ranking"
   ]
  },
  {
   "cell_type": "markdown",
   "metadata": {},
   "source": [
    "After we confirmed that there was no clear relationship between the population/density with average delay time, we focus on analyzing how could ranking influence the average delay time. From the correlations table, in the beginning, we noticed that city ranking might affect the performance of airlines.\n",
    "\n",
    "We will now begin with visualizing data again from the scatter plot and create an OLS regression model to predict their relationship."
   ]
  },
  {
   "cell_type": "code",
   "execution_count": 33,
   "metadata": {},
   "outputs": [
    {
     "data": {
      "image/png": "[encoded data removed]",
      "text/plain": [
       "<Figure size 432x288 with 1 Axes>"
      ]
     },
     "metadata": {
      "needs_background": "light"
     },
     "output_type": "display_data"
    }
   ],
   "source": [
    "##PLOT RANKING\n",
    "%matplotlib inline\n",
    "import numpy as np\n",
    "from sklearn.metrics import r2_score\n",
    "import matplotlib.pyplot as plt\n",
    "from scipy import stats\n",
    "\n",
    "#creating data\n",
    "x = np.array(pop_fac_fin['ranking'])\n",
    "y = np.array(pop_fac_fin['DELAY_AVG'])\n",
    "\n",
    "#creating OLS regression\n",
    "slope, intercept, r_value, p_value, std_err = stats.linregress(x,y)\n",
    "def linefitline(b):\n",
    "    return intercept + slope * b\n",
    "line1 = linefitline(x)\n",
    "\n",
    "#plot line\n",
    "plt.scatter(x,y)\n",
    "plt.plot(x,line1, c = 'r')\n",
    "plt.title(\"Scatter plot between Ranking and Avg.delay time\")\n",
    "plt.xlabel(\"Ranking\")\n",
    "plt.ylabel(\"Avg.Delay time\")\n",
    "plt.show()"
   ]
  },
  {
   "cell_type": "code",
   "execution_count": 34,
   "metadata": {},
   "outputs": [
    {
     "data": {
      "image/png": "[encoded data removed]",
      "text/plain": [
       "<Figure size 432x288 with 1 Axes>"
      ]
     },
     "metadata": {
      "needs_background": "light"
     },
     "output_type": "display_data"
    }
   ],
   "source": [
    "#plot line\n",
    "# plt.scatter(x,y)\n",
    "f1 = pop_fac_fin['ranking'].hist(bins=3)\n",
    "plt.plot(x,line1, c = 'r')\n",
    "plt.title(\"Histogram plotting Ranking and Avg.delay time\")\n",
    "plt.xlabel(\"Ranking\")\n",
    "plt.ylabel(\"Avg.Delay time\")\n",
    "plt.show()"
   ]
  },
  {
   "cell_type": "markdown",
   "metadata": {},
   "source": [
    "Both scatter plot and histogram graphs above show that the more important city, the more flight delay. Predict line also goes upward, which may indicate that the city with higher rankings will be more likely to have a more top average delay time."
   ]
  },
  {
   "cell_type": "markdown",
   "metadata": {},
   "source": [
    "Next, we will check p-value for our prediction "
   ]
  },
  {
   "cell_type": "code",
   "execution_count": 35,
   "metadata": {},
   "outputs": [
    {
     "name": "stdout",
     "output_type": "stream",
     "text": [
      "                            OLS Regression Results                            \n",
      "==============================================================================\n",
      "Dep. Variable:              DELAY_AVG   R-squared:                       0.045\n",
      "Model:                            OLS   Adj. R-squared:                  0.041\n",
      "Method:                 Least Squares   F-statistic:                     13.42\n",
      "Date:                Thu, 12 Dec 2019   Prob (F-statistic):           0.000297\n",
      "Time:                        23:11:45   Log-Likelihood:                -1038.3\n",
      "No. Observations:                 288   AIC:                             2081.\n",
      "Df Residuals:                     286   BIC:                             2088.\n",
      "Df Model:                           1                                         \n",
      "Covariance Type:            nonrobust                                         \n",
      "==============================================================================\n",
      "                 coef    std err          t      P>|t|      [0.025      0.975]\n",
      "------------------------------------------------------------------------------\n",
      "Intercept      9.2228      1.779      5.184      0.000       5.721      12.724\n",
      "ranking        2.7707      0.756      3.663      0.000       1.282       4.260\n",
      "==============================================================================\n",
      "Omnibus:                       87.407   Durbin-Watson:                   1.951\n",
      "Prob(Omnibus):                  0.000   Jarque-Bera (JB):              239.855\n",
      "Skew:                           1.383   Prob(JB):                     8.25e-53\n",
      "Kurtosis:                       6.513   Cond. No.                         9.28\n",
      "==============================================================================\n",
      "\n",
      "Warnings:\n",
      "[1] Standard Errors assume that the covariance matrix of the errors is correctly specified.\n"
     ]
    }
   ],
   "source": [
    "## TO GET P VALUE\n",
    "out3, pred3 = patsy.dmatrices('DELAY_AVG~ranking',pop_fac_fin)\n",
    "mod3 = sm.OLS(out3,pred3)\n",
    "res3 = mod3.fit()\n",
    "\n",
    "print(res3.summary())"
   ]
  },
  {
   "cell_type": "markdown",
   "metadata": {},
   "source": [
    "The P-value is 0.000 which is less than our alpha = 0.05. Thus we can say that there is significant relationship between the importance of cities and the average flight delay."
   ]
  },
  {
   "cell_type": "markdown",
   "metadata": {},
   "source": [
    "We did not calculate R^2 value for ranking data because it is already obvious that there is correlation by calculating P-value."
   ]
  },
  {
   "cell_type": "markdown",
   "metadata": {},
   "source": [
    "Therefore, we conclude from the above summary that city ranking is one factor that will influence airline's average delay time: the more influential the city is, the more likely it will have a higher average delay time. This outcome is quite reasonable since the more important city could have a higher number of airlines, and the possibility of having a delay is more significant."
   ]
  },
  {
   "cell_type": "markdown",
   "metadata": {},
   "source": [
    "# 11) Ethics & Privacy\n",
    "Data Collection: <br>All the datasets we used for our study are publicly available. We gathered information from the United States Department of Transportation, simplemaps, and each airline company's website. The data by nature is open to the general public for use. There are no human subjects in our datasets, thus there is no problem with personal information leakage. Hence there shouldn't be any concern for consent or privacy. However, no data is perfect. Some potential biases in our data collection are that there could be some unreported causes that led to airline delays and our dataset might not be well rounded. For our project, we only collected data for 2019 and there are already 583,986 observations. Although we have enough observations for the purpose of our research, it could mean that the airline with the highest delays had a bad year in 2019 and were doing great regarding delays before 2019. We could collect more data from the past years, however, we think for airline delays, it changes as technology changes and it is best to have the most updated data for our project. Hence, we are overlooking these biases. \n",
    "\n",
    "Data Storage: <br>Our study does not contain any sensitive information so it can be used by the public and we do not have any plans to protect our data.\n",
    "\n",
    "Data Analysis: <br>The datasets are basically objective and quantitative data. However, we only investigate domestic routes of airlines which may result in incomprehensiveness of our conclusion. Since all of our data are publicly accessible, there is no need to hide our analysis from the general public. If others could use our research for further research, they are more than welcome to do so. \n",
    "\n",
    "Privacy and ethical considerations are very important in regarding research because it can change the research result due to personal preferences or the research might cause negative impacts on some people’s lives. Hence, we have taken careful considerations regarding privacy and ethical considerations to ensure the validity and morality of our research. \n"
   ]
  },
  {
   "cell_type": "markdown",
   "metadata": {},
   "source": [
    "# 12) Conclusion & Discussion"
   ]
  },
  {
   "cell_type": "markdown",
   "metadata": {},
   "source": [
    "Charging extra fees does not have a significant impact on airline delays. From above visualizations, we can see that there is a slightly positive correlation between price charged for the first checked baggage and delays. The p-value is up to 0.5, which is much greater than commonly used alpha value.(alpha = 0.05) So we fail to reject the null hypothesis and cannot tell the relationship between the first checked baggage fee and delays. However, the extra fee of the second checked baggage is negatively correlated with delays, and it supports our hypothesis that airlines charging extra money will tend to have fewer delays in some ways. The p-value is around 0.2, which is not small but still less than the p-value for the first checked baggage fee. So we conclude that the second checked baggage fee has a higher impact on delays compared to the first checked baggage fee.\n",
    "<br>\n",
    "<br>\n",
    "We hypothesized that the population, density, and ranking of cities would affect the average delay. First, we checked the correlations between average delay time with these three aspects, and we found that there was no salient relationship between average delay with either population or density at first glance. However, by plotting the linear models, we noticed that cities with lower populations would have higher average delay time. The predicted line for density had a similar shape as populations’ but moving upward. Hence, cities with higher population density have higher average delay time. Plus, there could be a relationship between the delay time and city ranking. We further analyzed how the city rankings connected with average delay time. After creating a linear model and getting the summary results of the model fitting, we were excited to find out that the p-value was 0, which means that there is a close relationship between city rankings and the average delay time: The more important the city is, the more likely it will have a higher average delay time.\n",
    "We had huge data loss in order to match the city names to the other dataset’s which includes information of population, density and city ranks. If we were able to maintain the original amount of the delay dataset, there might have been a better and clear relationship between delay vs. density or delay vs. population. Also, we were using a linear regression for our analysis. To improve our model, we could have used different statistical models such as exponential regression.\n",
    "<br>\n",
    "<br>\n",
    "Although our results do not 100% support our hypothesis. Our group is still excited to see these results. It is strange to see that the second checked baggage fee would influence airliner delays as the first checked baggage fee has little to no effect. Even Though we were able to successfully support our hypotheses in the end, we suspect that the effect of the second checked baggage fee only contributes a small amount of influence towards airliner delays. Furthermore, it is interesting to see that less population has a direct correlation towards airline delays. As airliners are becoming a more important aspect of our lives, we are eager to see that cities with a denser population have less flight delays. Many of us travel between cities with a dense population more than those with less people. However, these findings are only valid due to our current technology. As the increase in technology, we suspect that these delays would decrease for cities with sparse population in the future since with better technology, airports should be able to handle delays a lot better. However, this is just another hypothesis we assume. Maybe we could conduct another experiment in the next couple years. \n"
   ]
  }
 ],
 "metadata": {
  "kernelspec": {
   "display_name": "Python 3",
   "language": "python",
   "name": "python3"
  },
  "language_info": {
   "codemirror_mode": {
    "name": "ipython",
    "version": 3
   },
   "file_extension": ".py",
   "mimetype": "text/x-python",
   "name": "python",
   "nbconvert_exporter": "python",
   "pygments_lexer": "ipython3",
   "version": "3.6.7"
  }
 },
 "nbformat": 4,
 "nbformat_minor": 2
}
